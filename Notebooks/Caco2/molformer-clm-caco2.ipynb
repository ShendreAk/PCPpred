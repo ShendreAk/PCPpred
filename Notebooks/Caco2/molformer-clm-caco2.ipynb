{
 "cells": [
  {
   "cell_type": "code",
   "execution_count": 1,
   "id": "954d6bd4-b5eb-49e7-8187-a217b9dcac74",
   "metadata": {
    "execution": {
     "iopub.execute_input": "2025-07-13T04:54:09.152136Z",
     "iopub.status.busy": "2025-07-13T04:54:09.151816Z",
     "iopub.status.idle": "2025-07-13T04:54:23.043851Z",
     "shell.execute_reply": "2025-07-13T04:54:23.042879Z",
     "shell.execute_reply.started": "2025-07-13T04:54:09.152112Z"
    }
   },
   "outputs": [
    {
     "name": "stdout",
     "output_type": "stream",
     "text": [
      "Collecting transformers==4.44.2\n",
      "  Downloading transformers-4.44.2-py3-none-any.whl.metadata (43 kB)\n",
      "\u001b[2K     \u001b[90m━━━━━━━━━━━━━━━━━━━━━━━━━━━━━━━━━━━━━━━━\u001b[0m \u001b[32m43.7/43.7 kB\u001b[0m \u001b[31m2.0 MB/s\u001b[0m eta \u001b[36m0:00:00\u001b[0m\n",
      "\u001b[?25hRequirement already satisfied: filelock in /usr/local/lib/python3.11/dist-packages (from transformers==4.44.2) (3.18.0)\n",
      "Requirement already satisfied: huggingface-hub<1.0,>=0.23.2 in /usr/local/lib/python3.11/dist-packages (from transformers==4.44.2) (0.33.1)\n",
      "Requirement already satisfied: numpy>=1.17 in /usr/local/lib/python3.11/dist-packages (from transformers==4.44.2) (1.26.4)\n",
      "Requirement already satisfied: packaging>=20.0 in /usr/local/lib/python3.11/dist-packages (from transformers==4.44.2) (25.0)\n",
      "Requirement already satisfied: pyyaml>=5.1 in /usr/local/lib/python3.11/dist-packages (from transformers==4.44.2) (6.0.2)\n",
      "Requirement already satisfied: regex!=2019.12.17 in /usr/local/lib/python3.11/dist-packages (from transformers==4.44.2) (2024.11.6)\n",
      "Requirement already satisfied: requests in /usr/local/lib/python3.11/dist-packages (from transformers==4.44.2) (2.32.4)\n",
      "Requirement already satisfied: safetensors>=0.4.1 in /usr/local/lib/python3.11/dist-packages (from transformers==4.44.2) (0.5.3)\n",
      "Collecting tokenizers<0.20,>=0.19 (from transformers==4.44.2)\n",
      "  Downloading tokenizers-0.19.1-cp311-cp311-manylinux_2_17_x86_64.manylinux2014_x86_64.whl.metadata (6.7 kB)\n",
      "Requirement already satisfied: tqdm>=4.27 in /usr/local/lib/python3.11/dist-packages (from transformers==4.44.2) (4.67.1)\n",
      "Requirement already satisfied: fsspec>=2023.5.0 in /usr/local/lib/python3.11/dist-packages (from huggingface-hub<1.0,>=0.23.2->transformers==4.44.2) (2025.5.1)\n",
      "Requirement already satisfied: typing-extensions>=3.7.4.3 in /usr/local/lib/python3.11/dist-packages (from huggingface-hub<1.0,>=0.23.2->transformers==4.44.2) (4.14.0)\n",
      "Requirement already satisfied: hf-xet<2.0.0,>=1.1.2 in /usr/local/lib/python3.11/dist-packages (from huggingface-hub<1.0,>=0.23.2->transformers==4.44.2) (1.1.5)\n",
      "Requirement already satisfied: mkl_fft in /usr/local/lib/python3.11/dist-packages (from numpy>=1.17->transformers==4.44.2) (1.3.8)\n",
      "Requirement already satisfied: mkl_random in /usr/local/lib/python3.11/dist-packages (from numpy>=1.17->transformers==4.44.2) (1.2.4)\n",
      "Requirement already satisfied: mkl_umath in /usr/local/lib/python3.11/dist-packages (from numpy>=1.17->transformers==4.44.2) (0.1.1)\n",
      "Requirement already satisfied: mkl in /usr/local/lib/python3.11/dist-packages (from numpy>=1.17->transformers==4.44.2) (2025.2.0)\n",
      "Requirement already satisfied: tbb4py in /usr/local/lib/python3.11/dist-packages (from numpy>=1.17->transformers==4.44.2) (2022.2.0)\n",
      "Requirement already satisfied: mkl-service in /usr/local/lib/python3.11/dist-packages (from numpy>=1.17->transformers==4.44.2) (2.4.1)\n",
      "Requirement already satisfied: charset_normalizer<4,>=2 in /usr/local/lib/python3.11/dist-packages (from requests->transformers==4.44.2) (3.4.2)\n",
      "Requirement already satisfied: idna<4,>=2.5 in /usr/local/lib/python3.11/dist-packages (from requests->transformers==4.44.2) (3.10)\n",
      "Requirement already satisfied: urllib3<3,>=1.21.1 in /usr/local/lib/python3.11/dist-packages (from requests->transformers==4.44.2) (2.5.0)\n",
      "Requirement already satisfied: certifi>=2017.4.17 in /usr/local/lib/python3.11/dist-packages (from requests->transformers==4.44.2) (2025.6.15)\n",
      "Requirement already satisfied: intel-openmp<2026,>=2024 in /usr/local/lib/python3.11/dist-packages (from mkl->numpy>=1.17->transformers==4.44.2) (2024.2.0)\n",
      "Requirement already satisfied: tbb==2022.* in /usr/local/lib/python3.11/dist-packages (from mkl->numpy>=1.17->transformers==4.44.2) (2022.2.0)\n",
      "Requirement already satisfied: tcmlib==1.* in /usr/local/lib/python3.11/dist-packages (from tbb==2022.*->mkl->numpy>=1.17->transformers==4.44.2) (1.4.0)\n",
      "Requirement already satisfied: intel-cmplr-lib-rt in /usr/local/lib/python3.11/dist-packages (from mkl_umath->numpy>=1.17->transformers==4.44.2) (2024.2.0)\n",
      "Requirement already satisfied: intel-cmplr-lib-ur==2024.2.0 in /usr/local/lib/python3.11/dist-packages (from intel-openmp<2026,>=2024->mkl->numpy>=1.17->transformers==4.44.2) (2024.2.0)\n",
      "Downloading transformers-4.44.2-py3-none-any.whl (9.5 MB)\n",
      "\u001b[2K   \u001b[90m━━━━━━━━━━━━━━━━━━━━━━━━━━━━━━━━━━━━━━━━\u001b[0m \u001b[32m9.5/9.5 MB\u001b[0m \u001b[31m81.8 MB/s\u001b[0m eta \u001b[36m0:00:00\u001b[0m:00:01\u001b[0m00:01\u001b[0m\n",
      "\u001b[?25hDownloading tokenizers-0.19.1-cp311-cp311-manylinux_2_17_x86_64.manylinux2014_x86_64.whl (3.6 MB)\n",
      "\u001b[2K   \u001b[90m━━━━━━━━━━━━━━━━━━━━━━━━━━━━━━━━━━━━━━━━\u001b[0m \u001b[32m3.6/3.6 MB\u001b[0m \u001b[31m74.6 MB/s\u001b[0m eta \u001b[36m0:00:00\u001b[0m:00:01\u001b[0m\n",
      "\u001b[?25hInstalling collected packages: tokenizers, transformers\n",
      "  Attempting uninstall: tokenizers\n",
      "    Found existing installation: tokenizers 0.21.2\n",
      "    Uninstalling tokenizers-0.21.2:\n",
      "      Successfully uninstalled tokenizers-0.21.2\n",
      "  Attempting uninstall: transformers\n",
      "    Found existing installation: transformers 4.52.4\n",
      "    Uninstalling transformers-4.52.4:\n",
      "      Successfully uninstalled transformers-4.52.4\n",
      "Successfully installed tokenizers-0.19.1 transformers-4.44.2\n"
     ]
    }
   ],
   "source": [
    "!pip install transformers==4.44.2 "
   ]
  },
  {
   "cell_type": "code",
   "execution_count": 2,
   "id": "dd321882-ff9d-42d4-89ea-cf58885b8d7c",
   "metadata": {
    "execution": {
     "iopub.execute_input": "2025-07-13T04:54:23.045853Z",
     "iopub.status.busy": "2025-07-13T04:54:23.045606Z",
     "iopub.status.idle": "2025-07-13T04:54:26.837703Z",
     "shell.execute_reply": "2025-07-13T04:54:26.836961Z",
     "shell.execute_reply.started": "2025-07-13T04:54:23.045828Z"
    }
   },
   "outputs": [
    {
     "name": "stdout",
     "output_type": "stream",
     "text": [
      "Collecting joblib==1.4.2\n",
      "  Downloading joblib-1.4.2-py3-none-any.whl.metadata (5.4 kB)\n",
      "Downloading joblib-1.4.2-py3-none-any.whl (301 kB)\n",
      "\u001b[2K   \u001b[90m━━━━━━━━━━━━━━━━━━━━━━━━━━━━━━━━━━━━━━━━\u001b[0m \u001b[32m301.8/301.8 kB\u001b[0m \u001b[31m8.0 MB/s\u001b[0m eta \u001b[36m0:00:00\u001b[0m:00:01\u001b[0m\n",
      "\u001b[?25hInstalling collected packages: joblib\n",
      "  Attempting uninstall: joblib\n",
      "    Found existing installation: joblib 1.5.1\n",
      "    Uninstalling joblib-1.5.1:\n",
      "      Successfully uninstalled joblib-1.5.1\n",
      "\u001b[31mERROR: pip's dependency resolver does not currently take into account all the packages that are installed. This behaviour is the source of the following dependency conflicts.\n",
      "preprocessing 0.1.13 requires nltk==3.2.4, but you have nltk 3.9.1 which is incompatible.\n",
      "cesium 0.12.4 requires numpy<3.0,>=2.0, but you have numpy 1.26.4 which is incompatible.\n",
      "imbalanced-learn 0.13.0 requires scikit-learn<2,>=1.3.2, but you have scikit-learn 1.2.2 which is incompatible.\n",
      "mlxtend 0.23.4 requires scikit-learn>=1.3.1, but you have scikit-learn 1.2.2 which is incompatible.\u001b[0m\u001b[31m\n",
      "\u001b[0mSuccessfully installed joblib-1.4.2\n"
     ]
    }
   ],
   "source": [
    "!pip install joblib==1.4.2"
   ]
  },
  {
   "cell_type": "code",
   "execution_count": 3,
   "id": "33d58b53-5425-427d-b900-fc0b6846ca64",
   "metadata": {
    "execution": {
     "iopub.execute_input": "2025-07-13T04:54:26.839642Z",
     "iopub.status.busy": "2025-07-13T04:54:26.838649Z",
     "iopub.status.idle": "2025-07-13T04:54:34.023268Z",
     "shell.execute_reply": "2025-07-13T04:54:34.022373Z",
     "shell.execute_reply.started": "2025-07-13T04:54:26.839610Z"
    }
   },
   "outputs": [
    {
     "name": "stdout",
     "output_type": "stream",
     "text": [
      "Collecting scikit-learn==1.6.0\n",
      "  Downloading scikit_learn-1.6.0-cp311-cp311-manylinux_2_17_x86_64.manylinux2014_x86_64.whl.metadata (18 kB)\n",
      "Requirement already satisfied: numpy>=1.19.5 in /usr/local/lib/python3.11/dist-packages (from scikit-learn==1.6.0) (1.26.4)\n",
      "Requirement already satisfied: scipy>=1.6.0 in /usr/local/lib/python3.11/dist-packages (from scikit-learn==1.6.0) (1.15.3)\n",
      "Requirement already satisfied: joblib>=1.2.0 in /usr/local/lib/python3.11/dist-packages (from scikit-learn==1.6.0) (1.4.2)\n",
      "Requirement already satisfied: threadpoolctl>=3.1.0 in /usr/local/lib/python3.11/dist-packages (from scikit-learn==1.6.0) (3.6.0)\n",
      "Requirement already satisfied: mkl_fft in /usr/local/lib/python3.11/dist-packages (from numpy>=1.19.5->scikit-learn==1.6.0) (1.3.8)\n",
      "Requirement already satisfied: mkl_random in /usr/local/lib/python3.11/dist-packages (from numpy>=1.19.5->scikit-learn==1.6.0) (1.2.4)\n",
      "Requirement already satisfied: mkl_umath in /usr/local/lib/python3.11/dist-packages (from numpy>=1.19.5->scikit-learn==1.6.0) (0.1.1)\n",
      "Requirement already satisfied: mkl in /usr/local/lib/python3.11/dist-packages (from numpy>=1.19.5->scikit-learn==1.6.0) (2025.2.0)\n",
      "Requirement already satisfied: tbb4py in /usr/local/lib/python3.11/dist-packages (from numpy>=1.19.5->scikit-learn==1.6.0) (2022.2.0)\n",
      "Requirement already satisfied: mkl-service in /usr/local/lib/python3.11/dist-packages (from numpy>=1.19.5->scikit-learn==1.6.0) (2.4.1)\n",
      "Requirement already satisfied: intel-openmp<2026,>=2024 in /usr/local/lib/python3.11/dist-packages (from mkl->numpy>=1.19.5->scikit-learn==1.6.0) (2024.2.0)\n",
      "Requirement already satisfied: tbb==2022.* in /usr/local/lib/python3.11/dist-packages (from mkl->numpy>=1.19.5->scikit-learn==1.6.0) (2022.2.0)\n",
      "Requirement already satisfied: tcmlib==1.* in /usr/local/lib/python3.11/dist-packages (from tbb==2022.*->mkl->numpy>=1.19.5->scikit-learn==1.6.0) (1.4.0)\n",
      "Requirement already satisfied: intel-cmplr-lib-rt in /usr/local/lib/python3.11/dist-packages (from mkl_umath->numpy>=1.19.5->scikit-learn==1.6.0) (2024.2.0)\n",
      "Requirement already satisfied: intel-cmplr-lib-ur==2024.2.0 in /usr/local/lib/python3.11/dist-packages (from intel-openmp<2026,>=2024->mkl->numpy>=1.19.5->scikit-learn==1.6.0) (2024.2.0)\n",
      "Downloading scikit_learn-1.6.0-cp311-cp311-manylinux_2_17_x86_64.manylinux2014_x86_64.whl (13.5 MB)\n",
      "\u001b[2K   \u001b[90m━━━━━━━━━━━━━━━━━━━━━━━━━━━━━━━━━━━━━━━━\u001b[0m \u001b[32m13.5/13.5 MB\u001b[0m \u001b[31m94.2 MB/s\u001b[0m eta \u001b[36m0:00:00\u001b[0m:00:01\u001b[0m0:01\u001b[0m\n",
      "\u001b[?25hInstalling collected packages: scikit-learn\n",
      "  Attempting uninstall: scikit-learn\n",
      "    Found existing installation: scikit-learn 1.2.2\n",
      "    Uninstalling scikit-learn-1.2.2:\n",
      "      Successfully uninstalled scikit-learn-1.2.2\n",
      "\u001b[31mERROR: pip's dependency resolver does not currently take into account all the packages that are installed. This behaviour is the source of the following dependency conflicts.\n",
      "category-encoders 2.7.0 requires scikit-learn<1.6.0,>=1.0.0, but you have scikit-learn 1.6.0 which is incompatible.\n",
      "cesium 0.12.4 requires numpy<3.0,>=2.0, but you have numpy 1.26.4 which is incompatible.\u001b[0m\u001b[31m\n",
      "\u001b[0mSuccessfully installed scikit-learn-1.6.0\n"
     ]
    }
   ],
   "source": [
    "!pip install scikit-learn==1.6.0"
   ]
  },
  {
   "cell_type": "code",
   "execution_count": 4,
   "id": "0be4620b-a715-4cbe-9c5a-6331cb1ecf15",
   "metadata": {
    "execution": {
     "iopub.execute_input": "2025-07-13T04:54:34.025686Z",
     "iopub.status.busy": "2025-07-13T04:54:34.025415Z",
     "iopub.status.idle": "2025-07-13T04:54:44.134778Z",
     "shell.execute_reply": "2025-07-13T04:54:44.134033Z",
     "shell.execute_reply.started": "2025-07-13T04:54:34.025659Z"
    }
   },
   "outputs": [
    {
     "name": "stdout",
     "output_type": "stream",
     "text": [
      "Requirement already satisfied: numpy==1.26.4 in /usr/local/lib/python3.11/dist-packages (1.26.4)\n",
      "Requirement already satisfied: pandas==2.2.3 in /usr/local/lib/python3.11/dist-packages (2.2.3)\n",
      "Collecting scipy==1.13.1\n",
      "  Downloading scipy-1.13.1-cp311-cp311-manylinux_2_17_x86_64.manylinux2014_x86_64.whl.metadata (60 kB)\n",
      "\u001b[2K     \u001b[90m━━━━━━━━━━━━━━━━━━━━━━━━━━━━━━━━━━━━━━━━\u001b[0m \u001b[32m60.6/60.6 kB\u001b[0m \u001b[31m2.5 MB/s\u001b[0m eta \u001b[36m0:00:00\u001b[0m\n",
      "\u001b[?25hRequirement already satisfied: mkl_fft in /usr/local/lib/python3.11/dist-packages (from numpy==1.26.4) (1.3.8)\n",
      "Requirement already satisfied: mkl_random in /usr/local/lib/python3.11/dist-packages (from numpy==1.26.4) (1.2.4)\n",
      "Requirement already satisfied: mkl_umath in /usr/local/lib/python3.11/dist-packages (from numpy==1.26.4) (0.1.1)\n",
      "Requirement already satisfied: mkl in /usr/local/lib/python3.11/dist-packages (from numpy==1.26.4) (2025.2.0)\n",
      "Requirement already satisfied: tbb4py in /usr/local/lib/python3.11/dist-packages (from numpy==1.26.4) (2022.2.0)\n",
      "Requirement already satisfied: mkl-service in /usr/local/lib/python3.11/dist-packages (from numpy==1.26.4) (2.4.1)\n",
      "Requirement already satisfied: python-dateutil>=2.8.2 in /usr/local/lib/python3.11/dist-packages (from pandas==2.2.3) (2.9.0.post0)\n",
      "Requirement already satisfied: pytz>=2020.1 in /usr/local/lib/python3.11/dist-packages (from pandas==2.2.3) (2025.2)\n",
      "Requirement already satisfied: tzdata>=2022.7 in /usr/local/lib/python3.11/dist-packages (from pandas==2.2.3) (2025.2)\n",
      "Requirement already satisfied: six>=1.5 in /usr/local/lib/python3.11/dist-packages (from python-dateutil>=2.8.2->pandas==2.2.3) (1.17.0)\n",
      "Requirement already satisfied: intel-openmp<2026,>=2024 in /usr/local/lib/python3.11/dist-packages (from mkl->numpy==1.26.4) (2024.2.0)\n",
      "Requirement already satisfied: tbb==2022.* in /usr/local/lib/python3.11/dist-packages (from mkl->numpy==1.26.4) (2022.2.0)\n",
      "Requirement already satisfied: tcmlib==1.* in /usr/local/lib/python3.11/dist-packages (from tbb==2022.*->mkl->numpy==1.26.4) (1.4.0)\n",
      "Requirement already satisfied: intel-cmplr-lib-rt in /usr/local/lib/python3.11/dist-packages (from mkl_umath->numpy==1.26.4) (2024.2.0)\n",
      "Requirement already satisfied: intel-cmplr-lib-ur==2024.2.0 in /usr/local/lib/python3.11/dist-packages (from intel-openmp<2026,>=2024->mkl->numpy==1.26.4) (2024.2.0)\n",
      "Downloading scipy-1.13.1-cp311-cp311-manylinux_2_17_x86_64.manylinux2014_x86_64.whl (38.6 MB)\n",
      "\u001b[2K   \u001b[90m━━━━━━━━━━━━━━━━━━━━━━━━━━━━━━━━━━━━━━━━\u001b[0m \u001b[32m38.6/38.6 MB\u001b[0m \u001b[31m36.4 MB/s\u001b[0m eta \u001b[36m0:00:00\u001b[0m:00:01\u001b[0m00:01\u001b[0m\n",
      "\u001b[?25hInstalling collected packages: scipy\n",
      "  Attempting uninstall: scipy\n",
      "    Found existing installation: scipy 1.15.3\n",
      "    Uninstalling scipy-1.15.3:\n",
      "      Successfully uninstalled scipy-1.15.3\n",
      "\u001b[31mERROR: pip's dependency resolver does not currently take into account all the packages that are installed. This behaviour is the source of the following dependency conflicts.\n",
      "category-encoders 2.7.0 requires scikit-learn<1.6.0,>=1.0.0, but you have scikit-learn 1.6.0 which is incompatible.\n",
      "cesium 0.12.4 requires numpy<3.0,>=2.0, but you have numpy 1.26.4 which is incompatible.\n",
      "tsfresh 0.21.0 requires scipy>=1.14.0; python_version >= \"3.10\", but you have scipy 1.13.1 which is incompatible.\n",
      "dopamine-rl 4.1.2 requires gymnasium>=1.0.0, but you have gymnasium 0.29.0 which is incompatible.\n",
      "plotnine 0.14.5 requires matplotlib>=3.8.0, but you have matplotlib 3.7.2 which is incompatible.\u001b[0m\u001b[31m\n",
      "\u001b[0mSuccessfully installed scipy-1.13.1\n"
     ]
    }
   ],
   "source": [
    "!pip install numpy==1.26.4 pandas==2.2.3 scipy==1.13.1"
   ]
  },
  {
   "cell_type": "code",
   "execution_count": 5,
   "id": "7b285d19-55cb-4a81-bbc7-810ef8b7b37a",
   "metadata": {
    "execution": {
     "iopub.execute_input": "2025-07-13T04:54:44.136012Z",
     "iopub.status.busy": "2025-07-13T04:54:44.135754Z",
     "iopub.status.idle": "2025-07-13T04:54:55.692235Z",
     "shell.execute_reply": "2025-07-13T04:54:55.691307Z",
     "shell.execute_reply.started": "2025-07-13T04:54:44.135984Z"
    }
   },
   "outputs": [
    {
     "name": "stdout",
     "output_type": "stream",
     "text": [
      "Collecting seaborn==0.13.2\n",
      "  Downloading seaborn-0.13.2-py3-none-any.whl.metadata (5.4 kB)\n",
      "Collecting tqdm==4.66.5\n",
      "  Downloading tqdm-4.66.5-py3-none-any.whl.metadata (57 kB)\n",
      "\u001b[2K     \u001b[90m━━━━━━━━━━━━━━━━━━━━━━━━━━━━━━━━━━━━━━━━\u001b[0m \u001b[32m57.6/57.6 kB\u001b[0m \u001b[31m3.1 MB/s\u001b[0m eta \u001b[36m0:00:00\u001b[0m\n",
      "\u001b[?25hRequirement already satisfied: lightgbm==4.5.0 in /usr/local/lib/python3.11/dist-packages (4.5.0)\n",
      "Collecting xgboost==2.1.3\n",
      "  Downloading xgboost-2.1.3-py3-none-manylinux_2_28_x86_64.whl.metadata (2.1 kB)\n",
      "Requirement already satisfied: numpy!=1.24.0,>=1.20 in /usr/local/lib/python3.11/dist-packages (from seaborn==0.13.2) (1.26.4)\n",
      "Requirement already satisfied: pandas>=1.2 in /usr/local/lib/python3.11/dist-packages (from seaborn==0.13.2) (2.2.3)\n",
      "Requirement already satisfied: matplotlib!=3.6.1,>=3.4 in /usr/local/lib/python3.11/dist-packages (from seaborn==0.13.2) (3.7.2)\n",
      "Requirement already satisfied: scipy in /usr/local/lib/python3.11/dist-packages (from lightgbm==4.5.0) (1.13.1)\n",
      "Requirement already satisfied: nvidia-nccl-cu12 in /usr/local/lib/python3.11/dist-packages (from xgboost==2.1.3) (2.21.5)\n",
      "Requirement already satisfied: contourpy>=1.0.1 in /usr/local/lib/python3.11/dist-packages (from matplotlib!=3.6.1,>=3.4->seaborn==0.13.2) (1.3.2)\n",
      "Requirement already satisfied: cycler>=0.10 in /usr/local/lib/python3.11/dist-packages (from matplotlib!=3.6.1,>=3.4->seaborn==0.13.2) (0.12.1)\n",
      "Requirement already satisfied: fonttools>=4.22.0 in /usr/local/lib/python3.11/dist-packages (from matplotlib!=3.6.1,>=3.4->seaborn==0.13.2) (4.58.4)\n",
      "Requirement already satisfied: kiwisolver>=1.0.1 in /usr/local/lib/python3.11/dist-packages (from matplotlib!=3.6.1,>=3.4->seaborn==0.13.2) (1.4.8)\n",
      "Requirement already satisfied: packaging>=20.0 in /usr/local/lib/python3.11/dist-packages (from matplotlib!=3.6.1,>=3.4->seaborn==0.13.2) (25.0)\n",
      "Requirement already satisfied: pillow>=6.2.0 in /usr/local/lib/python3.11/dist-packages (from matplotlib!=3.6.1,>=3.4->seaborn==0.13.2) (11.2.1)\n",
      "Requirement already satisfied: pyparsing<3.1,>=2.3.1 in /usr/local/lib/python3.11/dist-packages (from matplotlib!=3.6.1,>=3.4->seaborn==0.13.2) (3.0.9)\n",
      "Requirement already satisfied: python-dateutil>=2.7 in /usr/local/lib/python3.11/dist-packages (from matplotlib!=3.6.1,>=3.4->seaborn==0.13.2) (2.9.0.post0)\n",
      "Requirement already satisfied: mkl_fft in /usr/local/lib/python3.11/dist-packages (from numpy!=1.24.0,>=1.20->seaborn==0.13.2) (1.3.8)\n",
      "Requirement already satisfied: mkl_random in /usr/local/lib/python3.11/dist-packages (from numpy!=1.24.0,>=1.20->seaborn==0.13.2) (1.2.4)\n",
      "Requirement already satisfied: mkl_umath in /usr/local/lib/python3.11/dist-packages (from numpy!=1.24.0,>=1.20->seaborn==0.13.2) (0.1.1)\n",
      "Requirement already satisfied: mkl in /usr/local/lib/python3.11/dist-packages (from numpy!=1.24.0,>=1.20->seaborn==0.13.2) (2025.2.0)\n",
      "Requirement already satisfied: tbb4py in /usr/local/lib/python3.11/dist-packages (from numpy!=1.24.0,>=1.20->seaborn==0.13.2) (2022.2.0)\n",
      "Requirement already satisfied: mkl-service in /usr/local/lib/python3.11/dist-packages (from numpy!=1.24.0,>=1.20->seaborn==0.13.2) (2.4.1)\n",
      "Requirement already satisfied: pytz>=2020.1 in /usr/local/lib/python3.11/dist-packages (from pandas>=1.2->seaborn==0.13.2) (2025.2)\n",
      "Requirement already satisfied: tzdata>=2022.7 in /usr/local/lib/python3.11/dist-packages (from pandas>=1.2->seaborn==0.13.2) (2025.2)\n",
      "Requirement already satisfied: six>=1.5 in /usr/local/lib/python3.11/dist-packages (from python-dateutil>=2.7->matplotlib!=3.6.1,>=3.4->seaborn==0.13.2) (1.17.0)\n",
      "Requirement already satisfied: intel-openmp<2026,>=2024 in /usr/local/lib/python3.11/dist-packages (from mkl->numpy!=1.24.0,>=1.20->seaborn==0.13.2) (2024.2.0)\n",
      "Requirement already satisfied: tbb==2022.* in /usr/local/lib/python3.11/dist-packages (from mkl->numpy!=1.24.0,>=1.20->seaborn==0.13.2) (2022.2.0)\n",
      "Requirement already satisfied: tcmlib==1.* in /usr/local/lib/python3.11/dist-packages (from tbb==2022.*->mkl->numpy!=1.24.0,>=1.20->seaborn==0.13.2) (1.4.0)\n",
      "Requirement already satisfied: intel-cmplr-lib-rt in /usr/local/lib/python3.11/dist-packages (from mkl_umath->numpy!=1.24.0,>=1.20->seaborn==0.13.2) (2024.2.0)\n",
      "Requirement already satisfied: intel-cmplr-lib-ur==2024.2.0 in /usr/local/lib/python3.11/dist-packages (from intel-openmp<2026,>=2024->mkl->numpy!=1.24.0,>=1.20->seaborn==0.13.2) (2024.2.0)\n",
      "Downloading seaborn-0.13.2-py3-none-any.whl (294 kB)\n",
      "\u001b[2K   \u001b[90m━━━━━━━━━━━━━━━━━━━━━━━━━━━━━━━━━━━━━━━━\u001b[0m \u001b[32m294.9/294.9 kB\u001b[0m \u001b[31m13.9 MB/s\u001b[0m eta \u001b[36m0:00:00\u001b[0m\n",
      "\u001b[?25hDownloading tqdm-4.66.5-py3-none-any.whl (78 kB)\n",
      "\u001b[2K   \u001b[90m━━━━━━━━━━━━━━━━━━━━━━━━━━━━━━━━━━━━━━━━\u001b[0m \u001b[32m78.4/78.4 kB\u001b[0m \u001b[31m4.9 MB/s\u001b[0m eta \u001b[36m0:00:00\u001b[0m\n",
      "\u001b[?25hDownloading xgboost-2.1.3-py3-none-manylinux_2_28_x86_64.whl (153.9 MB)\n",
      "\u001b[2K   \u001b[90m━━━━━━━━━━━━━━━━━━━━━━━━━━━━━━━━━━━━━━━━\u001b[0m \u001b[32m153.9/153.9 MB\u001b[0m \u001b[31m10.8 MB/s\u001b[0m eta \u001b[36m0:00:00\u001b[0m00:01\u001b[0m00:01\u001b[0m\n",
      "\u001b[?25hInstalling collected packages: tqdm, xgboost, seaborn\n",
      "  Attempting uninstall: tqdm\n",
      "    Found existing installation: tqdm 4.67.1\n",
      "    Uninstalling tqdm-4.67.1:\n",
      "      Successfully uninstalled tqdm-4.67.1\n",
      "  Attempting uninstall: xgboost\n",
      "    Found existing installation: xgboost 2.0.3\n",
      "    Uninstalling xgboost-2.0.3:\n",
      "      Successfully uninstalled xgboost-2.0.3\n",
      "  Attempting uninstall: seaborn\n",
      "    Found existing installation: seaborn 0.12.2\n",
      "    Uninstalling seaborn-0.12.2:\n",
      "      Successfully uninstalled seaborn-0.12.2\n",
      "\u001b[31mERROR: pip's dependency resolver does not currently take into account all the packages that are installed. This behaviour is the source of the following dependency conflicts.\n",
      "datasets 3.6.0 requires fsspec[http]<=2025.3.0,>=2023.1.0, but you have fsspec 2025.5.1 which is incompatible.\n",
      "preprocessing 0.1.13 requires nltk==3.2.4, but you have nltk 3.9.1 which is incompatible.\n",
      "tsfresh 0.21.0 requires scipy>=1.14.0; python_version >= \"3.10\", but you have scipy 1.13.1 which is incompatible.\n",
      "dopamine-rl 4.1.2 requires gymnasium>=1.0.0, but you have gymnasium 0.29.0 which is incompatible.\n",
      "dataproc-spark-connect 0.7.5 requires google-api-core>=2.19, but you have google-api-core 1.34.1 which is incompatible.\n",
      "dataproc-spark-connect 0.7.5 requires tqdm>=4.67, but you have tqdm 4.66.5 which is incompatible.\u001b[0m\u001b[31m\n",
      "\u001b[0mSuccessfully installed seaborn-0.13.2 tqdm-4.66.5 xgboost-2.1.3\n"
     ]
    }
   ],
   "source": [
    "!pip install seaborn==0.13.2 tqdm==4.66.5 lightgbm==4.5.0 xgboost==2.1.3"
   ]
  },
  {
   "cell_type": "code",
   "execution_count": null,
   "id": "c4a67708-1471-44d0-aae4-dabee689cac9",
   "metadata": {},
   "outputs": [],
   "source": []
  },
  {
   "cell_type": "code",
   "execution_count": 6,
   "id": "77ea0e60-9cfe-42de-b934-664587e8c25d",
   "metadata": {
    "execution": {
     "iopub.execute_input": "2025-07-13T04:54:55.693829Z",
     "iopub.status.busy": "2025-07-13T04:54:55.693488Z",
     "iopub.status.idle": "2025-07-13T04:54:59.154497Z",
     "shell.execute_reply": "2025-07-13T04:54:59.153732Z",
     "shell.execute_reply.started": "2025-07-13T04:54:55.693798Z"
    }
   },
   "outputs": [],
   "source": [
    "import os\n",
    "import pandas as pd\n",
    "from sklearn.model_selection import train_test_split\n",
    "from sklearn.metrics import mean_squared_error, r2_score, mean_absolute_error\n",
    "import numpy as np\n",
    "import random\n",
    "from transformers import AutoModel, AutoTokenizer,AutoModelForSequenceClassification, AdamW\n",
    "import torch\n",
    "from torch.utils.data import DataLoader, Dataset, random_split\n",
    "\n",
    "# Load datasets\n",
    "train_df = pd.read_csv('/kaggle/input/caco2-set/Train_Caco2.csv')\n",
    "train_df = train_df[['ID', 'SMILES', 'Permeability']]\n",
    "test_df = pd.read_csv('/kaggle/input/caco2-set/Test_Caco2.csv')\n",
    "test_df = test_df[['ID', 'SMILES', 'Permeability']]\n"
   ]
  },
  {
   "cell_type": "code",
   "execution_count": 7,
   "id": "4f1bd791-38e5-4a4e-900f-28bbbf691e7e",
   "metadata": {
    "execution": {
     "iopub.execute_input": "2025-07-13T04:55:07.545969Z",
     "iopub.status.busy": "2025-07-13T04:55:07.545668Z",
     "iopub.status.idle": "2025-07-13T04:55:12.881560Z",
     "shell.execute_reply": "2025-07-13T04:55:12.880677Z",
     "shell.execute_reply.started": "2025-07-13T04:55:07.545946Z"
    }
   },
   "outputs": [
    {
     "data": {
      "application/vnd.jupyter.widget-view+json": {
       "model_id": "1078ada7c86c4fdc8d6e3361d95f663d",
       "version_major": 2,
       "version_minor": 0
      },
      "text/plain": [
       "config.json: 0.00B [00:00, ?B/s]"
      ]
     },
     "metadata": {},
     "output_type": "display_data"
    },
    {
     "data": {
      "application/vnd.jupyter.widget-view+json": {
       "model_id": "b9991920bcfc49e8bfe0e7312989c06d",
       "version_major": 2,
       "version_minor": 0
      },
      "text/plain": [
       "configuration_molformer.py: 0.00B [00:00, ?B/s]"
      ]
     },
     "metadata": {},
     "output_type": "display_data"
    },
    {
     "name": "stderr",
     "output_type": "stream",
     "text": [
      "A new version of the following files was downloaded from https://huggingface.co/ibm/MoLFormer-XL-both-10pct:\n",
      "- configuration_molformer.py\n",
      ". Make sure to double-check they do not contain any added malicious code. To avoid downloading new versions of the code file, you can pin a revision.\n"
     ]
    },
    {
     "data": {
      "application/vnd.jupyter.widget-view+json": {
       "model_id": "0894e22e080143e68164dd6d2c9ae208",
       "version_major": 2,
       "version_minor": 0
      },
      "text/plain": [
       "modeling_molformer.py: 0.00B [00:00, ?B/s]"
      ]
     },
     "metadata": {},
     "output_type": "display_data"
    },
    {
     "name": "stderr",
     "output_type": "stream",
     "text": [
      "A new version of the following files was downloaded from https://huggingface.co/ibm/MoLFormer-XL-both-10pct:\n",
      "- modeling_molformer.py\n",
      ". Make sure to double-check they do not contain any added malicious code. To avoid downloading new versions of the code file, you can pin a revision.\n"
     ]
    },
    {
     "data": {
      "application/vnd.jupyter.widget-view+json": {
       "model_id": "3e21bc99fc9f4c44818c1f6aab585b93",
       "version_major": 2,
       "version_minor": 0
      },
      "text/plain": [
       "model.safetensors:   0%|          | 0.00/187M [00:00<?, ?B/s]"
      ]
     },
     "metadata": {},
     "output_type": "display_data"
    },
    {
     "name": "stderr",
     "output_type": "stream",
     "text": [
      "Some weights of MolformerForSequenceClassification were not initialized from the model checkpoint at ibm/MoLFormer-XL-both-10pct and are newly initialized: ['classifier.dense.bias', 'classifier.dense.weight', 'classifier.dense2.bias', 'classifier.dense2.weight', 'classifier.out_proj.bias', 'classifier.out_proj.weight']\n",
      "You should probably TRAIN this model on a down-stream task to be able to use it for predictions and inference.\n"
     ]
    },
    {
     "data": {
      "application/vnd.jupyter.widget-view+json": {
       "model_id": "af98605ffa0c4e6abcd92994eab5d18a",
       "version_major": 2,
       "version_minor": 0
      },
      "text/plain": [
       "tokenizer_config.json: 0.00B [00:00, ?B/s]"
      ]
     },
     "metadata": {},
     "output_type": "display_data"
    },
    {
     "data": {
      "application/vnd.jupyter.widget-view+json": {
       "model_id": "4c5d01cdcd6249b9bde0e31e68afe8ef",
       "version_major": 2,
       "version_minor": 0
      },
      "text/plain": [
       "tokenization_molformer_fast.py: 0.00B [00:00, ?B/s]"
      ]
     },
     "metadata": {},
     "output_type": "display_data"
    },
    {
     "data": {
      "application/vnd.jupyter.widget-view+json": {
       "model_id": "6e62e884bc874175b44eb31c7aed3b4b",
       "version_major": 2,
       "version_minor": 0
      },
      "text/plain": [
       "tokenization_molformer.py: 0.00B [00:00, ?B/s]"
      ]
     },
     "metadata": {},
     "output_type": "display_data"
    },
    {
     "name": "stderr",
     "output_type": "stream",
     "text": [
      "A new version of the following files was downloaded from https://huggingface.co/ibm/MoLFormer-XL-both-10pct:\n",
      "- tokenization_molformer.py\n",
      ". Make sure to double-check they do not contain any added malicious code. To avoid downloading new versions of the code file, you can pin a revision.\n",
      "A new version of the following files was downloaded from https://huggingface.co/ibm/MoLFormer-XL-both-10pct:\n",
      "- tokenization_molformer_fast.py\n",
      "- tokenization_molformer.py\n",
      ". Make sure to double-check they do not contain any added malicious code. To avoid downloading new versions of the code file, you can pin a revision.\n"
     ]
    },
    {
     "data": {
      "application/vnd.jupyter.widget-view+json": {
       "model_id": "9bb8d47b65374b3b888735f5711e3d90",
       "version_major": 2,
       "version_minor": 0
      },
      "text/plain": [
       "vocab.json: 0.00B [00:00, ?B/s]"
      ]
     },
     "metadata": {},
     "output_type": "display_data"
    },
    {
     "data": {
      "application/vnd.jupyter.widget-view+json": {
       "model_id": "77e7e8cd04794ed78edb34af50884be2",
       "version_major": 2,
       "version_minor": 0
      },
      "text/plain": [
       "tokenizer.json: 0.00B [00:00, ?B/s]"
      ]
     },
     "metadata": {},
     "output_type": "display_data"
    },
    {
     "data": {
      "application/vnd.jupyter.widget-view+json": {
       "model_id": "0b658d550231449c9183a16d646b9502",
       "version_major": 2,
       "version_minor": 0
      },
      "text/plain": [
       "special_tokens_map.json:   0%|          | 0.00/125 [00:00<?, ?B/s]"
      ]
     },
     "metadata": {},
     "output_type": "display_data"
    }
   ],
   "source": [
    "model = AutoModelForSequenceClassification.from_pretrained(\"ibm/MoLFormer-XL-both-10pct\", deterministic_eval=True, trust_remote_code=True, num_labels=1)\n",
    "tokenizer = AutoTokenizer.from_pretrained(\"ibm/MoLFormer-XL-both-10pct\", trust_remote_code=True)"
   ]
  },
  {
   "cell_type": "code",
   "execution_count": 8,
   "id": "05ab00aa-cce1-4775-b3ed-e21d7d27420d",
   "metadata": {
    "execution": {
     "iopub.execute_input": "2025-07-13T04:55:15.411988Z",
     "iopub.status.busy": "2025-07-13T04:55:15.411208Z",
     "iopub.status.idle": "2025-07-13T04:55:15.418346Z",
     "shell.execute_reply": "2025-07-13T04:55:15.417422Z",
     "shell.execute_reply.started": "2025-07-13T04:55:15.411959Z"
    }
   },
   "outputs": [],
   "source": [
    "#Custom dataset class\n",
    "class SMILESDataset(Dataset):\n",
    "    def __init__(self, dataframe, tokenizer, max_length=325):\n",
    "        self.tokenizer = tokenizer\n",
    "        self.dataframe = dataframe\n",
    "        self.max_length = max_length\n",
    "\n",
    "    def __len__(self):\n",
    "        return len(self.dataframe)\n",
    "\n",
    "    def __getitem__(self, idx):\n",
    "        smiles = self.dataframe.iloc[idx]['SMILES']\n",
    "        permeability = self.dataframe.iloc[idx]['Permeability']\n",
    "        inputs = self.tokenizer(smiles, return_tensors='pt', padding=\"max_length\", truncation=True, max_length=self.max_length)\n",
    "        \n",
    "        input_ids = inputs['input_ids'].squeeze(0)  # Shape: (sequence_length,)\n",
    "        attention_mask = inputs['attention_mask'].squeeze(0)  # Shape: (sequence_length,)\n",
    "        \n",
    "        return {\n",
    "            'input_ids': input_ids,\n",
    "            'attention_mask': attention_mask,\n",
    "            'labels': torch.tensor(permeability, dtype=torch.float)\n",
    "        }"
   ]
  },
  {
   "cell_type": "code",
   "execution_count": 9,
   "id": "36e5e17b-ca6a-448b-baf2-a471eecae492",
   "metadata": {
    "execution": {
     "iopub.execute_input": "2025-07-13T04:55:18.418940Z",
     "iopub.status.busy": "2025-07-13T04:55:18.418324Z",
     "iopub.status.idle": "2025-07-13T04:55:18.804875Z",
     "shell.execute_reply": "2025-07-13T04:55:18.804023Z",
     "shell.execute_reply.started": "2025-07-13T04:55:18.418914Z"
    }
   },
   "outputs": [],
   "source": [
    "device = torch.device(\"cuda\" if torch.cuda.is_available() else \"cpu\")\n",
    "model = model.to(device)"
   ]
  },
  {
   "cell_type": "code",
   "execution_count": 10,
   "id": "6cb4e4d1-cda6-42c4-b628-69bf690be558",
   "metadata": {
    "execution": {
     "iopub.execute_input": "2025-07-13T04:55:21.605009Z",
     "iopub.status.busy": "2025-07-13T04:55:21.604453Z",
     "iopub.status.idle": "2025-07-13T04:55:21.609312Z",
     "shell.execute_reply": "2025-07-13T04:55:21.608565Z",
     "shell.execute_reply.started": "2025-07-13T04:55:21.604982Z"
    }
   },
   "outputs": [],
   "source": [
    "train_dataset = SMILESDataset(train_df, tokenizer)\n",
    "test_dataset = SMILESDataset(test_df, tokenizer)\n",
    "batch_size = 16\n",
    "#Data loaders\n",
    "train_loader = DataLoader(train_dataset, batch_size=batch_size, shuffle=True)\n",
    "test_loader = DataLoader(test_dataset, batch_size=batch_size, shuffle=False)"
   ]
  },
  {
   "cell_type": "code",
   "execution_count": 11,
   "id": "ba8955db-521c-4936-8961-0e1221f2565c",
   "metadata": {
    "execution": {
     "iopub.execute_input": "2025-07-13T04:55:24.197765Z",
     "iopub.status.busy": "2025-07-13T04:55:24.197021Z",
     "iopub.status.idle": "2025-07-13T04:55:26.455712Z",
     "shell.execute_reply": "2025-07-13T04:55:26.455064Z",
     "shell.execute_reply.started": "2025-07-13T04:55:24.197740Z"
    }
   },
   "outputs": [],
   "source": [
    "optimizer = torch.optim.AdamW(model.parameters(), lr=5e-5)\n",
    "num_epochs = 20"
   ]
  },
  {
   "cell_type": "code",
   "execution_count": 13,
   "id": "9290db40-0a74-4930-9107-d7e60cec9358",
   "metadata": {
    "execution": {
     "iopub.execute_input": "2025-07-13T04:55:52.009824Z",
     "iopub.status.busy": "2025-07-13T04:55:52.009490Z",
     "iopub.status.idle": "2025-07-13T05:06:53.402936Z",
     "shell.execute_reply": "2025-07-13T05:06:53.402050Z",
     "shell.execute_reply.started": "2025-07-13T04:55:52.009801Z"
    }
   },
   "outputs": [
    {
     "name": "stdout",
     "output_type": "stream",
     "text": [
      "Entered Epoch 1\n"
     ]
    },
    {
     "name": "stderr",
     "output_type": "stream",
     "text": [
      "Training Epoch 1/20: 100%|██████████| 63/63 [00:28<00:00,  2.19batch/s]\n"
     ]
    },
    {
     "name": "stdout",
     "output_type": "stream",
     "text": [
      "Epoch 1/20 - Train Loss: 2.4669\n",
      "Entered Epoch 2\n"
     ]
    },
    {
     "name": "stderr",
     "output_type": "stream",
     "text": [
      "Training Epoch 2/20: 100%|██████████| 63/63 [00:29<00:00,  2.16batch/s]\n"
     ]
    },
    {
     "name": "stdout",
     "output_type": "stream",
     "text": [
      "Epoch 2/20 - Train Loss: 0.5509\n",
      "Entered Epoch 3\n"
     ]
    },
    {
     "name": "stderr",
     "output_type": "stream",
     "text": [
      "Training Epoch 3/20: 100%|██████████| 63/63 [00:30<00:00,  2.05batch/s]\n"
     ]
    },
    {
     "name": "stdout",
     "output_type": "stream",
     "text": [
      "Epoch 3/20 - Train Loss: 0.4915\n",
      "Entered Epoch 4\n"
     ]
    },
    {
     "name": "stderr",
     "output_type": "stream",
     "text": [
      "Training Epoch 4/20: 100%|██████████| 63/63 [00:32<00:00,  1.95batch/s]\n"
     ]
    },
    {
     "name": "stdout",
     "output_type": "stream",
     "text": [
      "Epoch 4/20 - Train Loss: 0.5094\n",
      "Entered Epoch 5\n"
     ]
    },
    {
     "name": "stderr",
     "output_type": "stream",
     "text": [
      "Training Epoch 5/20: 100%|██████████| 63/63 [00:34<00:00,  1.83batch/s]\n"
     ]
    },
    {
     "name": "stdout",
     "output_type": "stream",
     "text": [
      "Epoch 5/20 - Train Loss: 0.4776\n",
      "Entered Epoch 6\n"
     ]
    },
    {
     "name": "stderr",
     "output_type": "stream",
     "text": [
      "Training Epoch 6/20: 100%|██████████| 63/63 [00:33<00:00,  1.88batch/s]\n"
     ]
    },
    {
     "name": "stdout",
     "output_type": "stream",
     "text": [
      "Epoch 6/20 - Train Loss: 0.4273\n",
      "Entered Epoch 7\n"
     ]
    },
    {
     "name": "stderr",
     "output_type": "stream",
     "text": [
      "Training Epoch 7/20: 100%|██████████| 63/63 [00:33<00:00,  1.86batch/s]\n"
     ]
    },
    {
     "name": "stdout",
     "output_type": "stream",
     "text": [
      "Epoch 7/20 - Train Loss: 0.4151\n",
      "Entered Epoch 8\n"
     ]
    },
    {
     "name": "stderr",
     "output_type": "stream",
     "text": [
      "Training Epoch 8/20: 100%|██████████| 63/63 [00:33<00:00,  1.86batch/s]\n"
     ]
    },
    {
     "name": "stdout",
     "output_type": "stream",
     "text": [
      "Epoch 8/20 - Train Loss: 0.3653\n",
      "Entered Epoch 9\n"
     ]
    },
    {
     "name": "stderr",
     "output_type": "stream",
     "text": [
      "Training Epoch 9/20: 100%|██████████| 63/63 [00:33<00:00,  1.87batch/s]\n"
     ]
    },
    {
     "name": "stdout",
     "output_type": "stream",
     "text": [
      "Epoch 9/20 - Train Loss: 0.3381\n",
      "Entered Epoch 10\n"
     ]
    },
    {
     "name": "stderr",
     "output_type": "stream",
     "text": [
      "Training Epoch 10/20: 100%|██████████| 63/63 [00:33<00:00,  1.86batch/s]\n"
     ]
    },
    {
     "name": "stdout",
     "output_type": "stream",
     "text": [
      "Epoch 10/20 - Train Loss: 0.3558\n",
      "Entered Epoch 11\n"
     ]
    },
    {
     "name": "stderr",
     "output_type": "stream",
     "text": [
      "Training Epoch 11/20: 100%|██████████| 63/63 [00:33<00:00,  1.86batch/s]\n"
     ]
    },
    {
     "name": "stdout",
     "output_type": "stream",
     "text": [
      "Epoch 11/20 - Train Loss: 0.3464\n",
      "Entered Epoch 12\n"
     ]
    },
    {
     "name": "stderr",
     "output_type": "stream",
     "text": [
      "Training Epoch 12/20: 100%|██████████| 63/63 [00:33<00:00,  1.86batch/s]\n"
     ]
    },
    {
     "name": "stdout",
     "output_type": "stream",
     "text": [
      "Epoch 12/20 - Train Loss: 0.3906\n",
      "Entered Epoch 13\n"
     ]
    },
    {
     "name": "stderr",
     "output_type": "stream",
     "text": [
      "Training Epoch 13/20: 100%|██████████| 63/63 [00:33<00:00,  1.86batch/s]\n"
     ]
    },
    {
     "name": "stdout",
     "output_type": "stream",
     "text": [
      "Epoch 13/20 - Train Loss: 0.3156\n",
      "Entered Epoch 14\n"
     ]
    },
    {
     "name": "stderr",
     "output_type": "stream",
     "text": [
      "Training Epoch 14/20: 100%|██████████| 63/63 [00:33<00:00,  1.87batch/s]\n"
     ]
    },
    {
     "name": "stdout",
     "output_type": "stream",
     "text": [
      "Epoch 14/20 - Train Loss: 0.2886\n",
      "Entered Epoch 15\n"
     ]
    },
    {
     "name": "stderr",
     "output_type": "stream",
     "text": [
      "Training Epoch 15/20: 100%|██████████| 63/63 [00:33<00:00,  1.87batch/s]\n"
     ]
    },
    {
     "name": "stdout",
     "output_type": "stream",
     "text": [
      "Epoch 15/20 - Train Loss: 0.2688\n",
      "Entered Epoch 16\n"
     ]
    },
    {
     "name": "stderr",
     "output_type": "stream",
     "text": [
      "Training Epoch 16/20: 100%|██████████| 63/63 [00:33<00:00,  1.87batch/s]\n"
     ]
    },
    {
     "name": "stdout",
     "output_type": "stream",
     "text": [
      "Epoch 16/20 - Train Loss: 0.2702\n",
      "Entered Epoch 17\n"
     ]
    },
    {
     "name": "stderr",
     "output_type": "stream",
     "text": [
      "Training Epoch 17/20: 100%|██████████| 63/63 [00:33<00:00,  1.88batch/s]\n"
     ]
    },
    {
     "name": "stdout",
     "output_type": "stream",
     "text": [
      "Epoch 17/20 - Train Loss: 0.2462\n",
      "Entered Epoch 18\n"
     ]
    },
    {
     "name": "stderr",
     "output_type": "stream",
     "text": [
      "Training Epoch 18/20: 100%|██████████| 63/63 [00:33<00:00,  1.87batch/s]\n"
     ]
    },
    {
     "name": "stdout",
     "output_type": "stream",
     "text": [
      "Epoch 18/20 - Train Loss: 0.2489\n",
      "Entered Epoch 19\n"
     ]
    },
    {
     "name": "stderr",
     "output_type": "stream",
     "text": [
      "Training Epoch 19/20: 100%|██████████| 63/63 [00:33<00:00,  1.88batch/s]\n"
     ]
    },
    {
     "name": "stdout",
     "output_type": "stream",
     "text": [
      "Epoch 19/20 - Train Loss: 0.2235\n",
      "Entered Epoch 20\n"
     ]
    },
    {
     "name": "stderr",
     "output_type": "stream",
     "text": [
      "Training Epoch 20/20: 100%|██████████| 63/63 [00:33<00:00,  1.87batch/s]"
     ]
    },
    {
     "name": "stdout",
     "output_type": "stream",
     "text": [
      "Epoch 20/20 - Train Loss: 0.2258\n"
     ]
    },
    {
     "name": "stderr",
     "output_type": "stream",
     "text": [
      "\n"
     ]
    }
   ],
   "source": [
    "#Training loop\n",
    "from tqdm import tqdm\n",
    "for epoch in range(num_epochs):\n",
    "    print(f\"Entered Epoch {epoch + 1}\")\n",
    "    model.train()\n",
    "    train_loss = 0\n",
    "\n",
    "    for batch in tqdm(train_loader, desc=f'Training Epoch {epoch + 1}/{num_epochs}', unit='batch'):\n",
    "        optimizer.zero_grad()\n",
    "\n",
    "        # Move all batch tensors to device\n",
    "        batch = {k: v.to(device) for k, v in batch.items()}\n",
    "        labels = batch[\"labels\"].unsqueeze(1)  # still shape: (batch_size, 1)\n",
    "\n",
    "        # Forward pass\n",
    "        outputs = model(\n",
    "            input_ids=batch[\"input_ids\"],\n",
    "            attention_mask=batch[\"attention_mask\"],\n",
    "            labels=labels\n",
    "        )\n",
    "        loss = outputs.loss\n",
    "        train_loss += loss.item()\n",
    "\n",
    "        # Backprop and optimizer step\n",
    "        loss.backward()\n",
    "        optimizer.step()\n",
    "\n",
    "    avg_train_loss = train_loss / len(train_loader)\n",
    "    print(f'Epoch {epoch + 1}/{num_epochs} - Train Loss: {avg_train_loss:.4f}')"
   ]
  },
  {
   "cell_type": "code",
   "execution_count": 14,
   "id": "29c59014",
   "metadata": {
    "execution": {
     "iopub.execute_input": "2025-07-13T05:06:53.404739Z",
     "iopub.status.busy": "2025-07-13T05:06:53.404272Z",
     "iopub.status.idle": "2025-07-13T05:06:53.946738Z",
     "shell.execute_reply": "2025-07-13T05:06:53.946051Z",
     "shell.execute_reply.started": "2025-07-13T05:06:53.404720Z"
    }
   },
   "outputs": [
    {
     "name": "stdout",
     "output_type": "stream",
     "text": [
      "Model and tokenizer saved to /kaggle/working/MoLFormer-XL-both-10pct_model_1_caco2\n"
     ]
    }
   ],
   "source": [
    "# Save the model after training\n",
    "model_name = 'MoLFormer-XL-both-10pct_model_1_caco2'\n",
    "model_save_path = f'/kaggle/working/{model_name}'\n",
    "os.makedirs(model_save_path, exist_ok=True)\n",
    "\n",
    "tokenizer.save_pretrained(model_save_path)\n",
    "model.save_pretrained(model_save_path, safe_serialization=False)\n",
    "\n",
    "print(f'Model and tokenizer saved to {model_save_path}')"
   ]
  },
  {
   "cell_type": "code",
   "execution_count": 15,
   "id": "b170bb7d-5df7-4b82-955f-0a3e58fbd500",
   "metadata": {
    "execution": {
     "iopub.execute_input": "2025-07-13T05:06:53.947730Z",
     "iopub.status.busy": "2025-07-13T05:06:53.947468Z",
     "iopub.status.idle": "2025-07-13T05:06:57.225432Z",
     "shell.execute_reply": "2025-07-13T05:06:57.224759Z",
     "shell.execute_reply.started": "2025-07-13T05:06:53.947712Z"
    }
   },
   "outputs": [
    {
     "name": "stderr",
     "output_type": "stream",
     "text": [
      "Testing: 100%|██████████| 16/16 [00:03<00:00,  4.92batch/s]"
     ]
    },
    {
     "name": "stdout",
     "output_type": "stream",
     "text": [
      "Test Loss: 0.2577\n",
      "(252,)\n",
      "(252,)\n",
      "Mean Squared Error: 0.2541\n",
      "Root Mean Squared Error: 0.5041\n",
      "Mean Absolute Error: 0.4091\n",
      "R^2 Score: 0.5609\n",
      "Pearson Correlation Coefficient: 0.7891\n",
      "Spearman Correlation Coefficient: 0.7683\n",
      "Hyperparameters:\n",
      "Learning Rate: 5e-05\n",
      "Batch Size: 16\n",
      "Epochs: 20\n"
     ]
    },
    {
     "name": "stderr",
     "output_type": "stream",
     "text": [
      "\n"
     ]
    }
   ],
   "source": [
    "from scipy.stats import pearsonr, spearmanr\n",
    "\n",
    "# Set model to eval mode\n",
    "model.eval()\n",
    "test_loss = 0\n",
    "test_true_labels = []\n",
    "predictions = []\n",
    "\n",
    "# No gradient calculation during evaluation\n",
    "with torch.no_grad():\n",
    "    for batch in tqdm(test_loader, desc='Testing', unit='batch'):\n",
    "      \n",
    "        input_ids = batch[\"input_ids\"].to(device)\n",
    "        attention_mask = batch[\"attention_mask\"].to(device)\n",
    "        labels = batch[\"labels\"].unsqueeze(1).to(device).float()\n",
    "\n",
    "        # Forward pass\n",
    "        outputs = model(input_ids=input_ids, attention_mask=attention_mask, labels=labels)\n",
    "        loss = outputs.loss\n",
    "        test_loss += loss.item()\n",
    "\n",
    "        # Collect predictions and true labels (back to CPU for evaluation)\n",
    "        test_true_labels.extend(labels.cpu().numpy())\n",
    "        preds = outputs.logits.squeeze().cpu().numpy()  # Shape: (batch_size,)\n",
    "        predictions.extend(preds)\n",
    "\n",
    "# Final test loss\n",
    "avg_test_loss = test_loss / len(test_loader)\n",
    "print(f'Test Loss: {avg_test_loss:.4f}')\n",
    "\n",
    "test_true_labels = np.array(test_true_labels).flatten()\n",
    "predictions = np.array(predictions)\n",
    "print(test_true_labels.shape)\n",
    "print(predictions.shape)\n",
    "# Performance metrics\n",
    "mse = mean_squared_error(test_true_labels, predictions)\n",
    "rmse = np.sqrt(mse)\n",
    "mae = mean_absolute_error(test_true_labels, predictions)\n",
    "r2 = r2_score(test_true_labels, predictions)\n",
    "PCC,_ = pearsonr(test_true_labels, predictions)\n",
    "SCC,_ = spearmanr(test_true_labels, predictions)\n",
    "\n",
    "# Print performance metrics\n",
    "print(f'Mean Squared Error: {mse:.4f}')\n",
    "print(f'Root Mean Squared Error: {rmse:.4f}')\n",
    "print(f'Mean Absolute Error: {mae:.4f}')\n",
    "print(f'R^2 Score: {r2:.4f}')\n",
    "print(f'Pearson Correlation Coefficient: {PCC:.4f}')\n",
    "print(f'Spearman Correlation Coefficient: {SCC:.4f}')\n",
    "\n",
    "# Print hyperparameters\n",
    "print(\"Hyperparameters:\")\n",
    "print(f\"Learning Rate: {5e-5}\")\n",
    "print(f\"Batch Size: 16\")\n",
    "print(f\"Epochs: {num_epochs}\")\n"
   ]
  },
  {
   "cell_type": "code",
   "execution_count": null,
   "id": "3a3a3c4f-358d-4c3c-a889-1a0f7e922e86",
   "metadata": {},
   "outputs": [],
   "source": []
  },
  {
   "cell_type": "code",
   "execution_count": 16,
   "id": "d3c1014b-07d3-47c1-ae82-36a0de05cb30",
   "metadata": {
    "execution": {
     "iopub.execute_input": "2025-07-13T05:06:57.227654Z",
     "iopub.status.busy": "2025-07-13T05:06:57.227378Z",
     "iopub.status.idle": "2025-07-13T05:06:58.472258Z",
     "shell.execute_reply": "2025-07-13T05:06:58.471666Z",
     "shell.execute_reply.started": "2025-07-13T05:06:57.227634Z"
    }
   },
   "outputs": [],
   "source": [
    "#MolFormer_XL Fine tuned Model_1 SMILES Embeddings\n",
    "import os\n",
    "import pandas as pd\n",
    "import numpy as np\n",
    "import torch\n",
    "from torch.utils.data import Dataset, DataLoader\n",
    "from torch.optim import AdamW\n",
    "from transformers import AutoTokenizer, AutoModel\n",
    "\n",
    "from sklearn.metrics import mean_squared_error, mean_absolute_error, r2_score\n",
    "\n",
    "# Define the model name and path\n",
    "model_name = 'MoLFormer-XL-both-10pct_model_1_caco2'\n",
    "model_save_path = f'/kaggle/working/{model_name}'\n",
    "\n",
    "if not os.path.exists(model_save_path):\n",
    "    raise FileNotFoundError(f\"The model directory {model_save_path} does not exist.\")\n",
    "\n",
    "tokenizer = AutoTokenizer.from_pretrained(model_save_path, trust_remote_code=True)\n",
    "model = AutoModel.from_pretrained(model_save_path, trust_remote_code=True).to(device) "
   ]
  },
  {
   "cell_type": "code",
   "execution_count": 17,
   "id": "3567b06a-a6e1-4d8b-9045-fbee8c512898",
   "metadata": {
    "execution": {
     "iopub.execute_input": "2025-07-13T05:06:58.473233Z",
     "iopub.status.busy": "2025-07-13T05:06:58.473015Z",
     "iopub.status.idle": "2025-07-13T05:06:58.499252Z",
     "shell.execute_reply": "2025-07-13T05:06:58.498480Z",
     "shell.execute_reply.started": "2025-07-13T05:06:58.473218Z"
    }
   },
   "outputs": [],
   "source": [
    "# Load datasets\n",
    "train_df = pd.read_csv('/kaggle/input/caco2-set/Train_Caco2.csv')\n",
    "train_df = train_df[['ID', 'SMILES', 'Permeability']]\n",
    "test_df = pd.read_csv('/kaggle/input/caco2-set/Test_Caco2.csv')\n",
    "test_df = test_df[['ID', 'SMILES', 'Permeability']]"
   ]
  },
  {
   "cell_type": "code",
   "execution_count": 18,
   "id": "5da51286-aa61-4d50-acfb-f9a89c049327",
   "metadata": {
    "execution": {
     "iopub.execute_input": "2025-07-13T05:06:58.500378Z",
     "iopub.status.busy": "2025-07-13T05:06:58.500102Z",
     "iopub.status.idle": "2025-07-13T05:06:58.883667Z",
     "shell.execute_reply": "2025-07-13T05:06:58.883066Z",
     "shell.execute_reply.started": "2025-07-13T05:06:58.500353Z"
    }
   },
   "outputs": [],
   "source": [
    "train_encodings = tokenizer(list(train_df['SMILES']), truncation=True, padding=True, max_length=325, return_tensors=\"pt\")\n",
    "test_encodings = tokenizer(list(test_df['SMILES']), truncation=True, padding=True, max_length=325, return_tensors=\"pt\")"
   ]
  },
  {
   "cell_type": "code",
   "execution_count": 19,
   "id": "ce14b286-75fa-4744-b14d-d64051d95034",
   "metadata": {
    "execution": {
     "iopub.execute_input": "2025-07-13T05:06:58.884842Z",
     "iopub.status.busy": "2025-07-13T05:06:58.884638Z",
     "iopub.status.idle": "2025-07-13T05:06:58.890427Z",
     "shell.execute_reply": "2025-07-13T05:06:58.889745Z",
     "shell.execute_reply.started": "2025-07-13T05:06:58.884826Z"
    }
   },
   "outputs": [],
   "source": [
    "from tqdm import tqdm \n",
    "batch_size = 16 \n",
    "\n",
    "def generate_embeddings(encodings, batch_size):\n",
    "    embeddings = []\n",
    "    model.eval() \n",
    "    with torch.no_grad():\n",
    "        for i in tqdm(range(0, len(encodings['input_ids']), batch_size), desc=\"Processing batches\"):\n",
    "            batch = {key: val[i:i + batch_size].to(device) for key, val in encodings.items()}  \n",
    "            outputs = model(**batch)\n",
    "            embeddings.append(outputs.last_hidden_state)\n",
    "    return torch.cat(embeddings, dim=0)\n"
   ]
  },
  {
   "cell_type": "code",
   "execution_count": 20,
   "id": "9a6462f5-bf7c-4541-9c3f-480ba8a6930a",
   "metadata": {
    "execution": {
     "iopub.execute_input": "2025-07-13T05:06:58.891307Z",
     "iopub.status.busy": "2025-07-13T05:06:58.891076Z",
     "iopub.status.idle": "2025-07-13T05:07:07.353244Z",
     "shell.execute_reply": "2025-07-13T05:07:07.352391Z",
     "shell.execute_reply.started": "2025-07-13T05:06:58.891272Z"
    }
   },
   "outputs": [
    {
     "name": "stderr",
     "output_type": "stream",
     "text": [
      "Processing batches: 100%|██████████| 63/63 [00:08<00:00,  7.46it/s]"
     ]
    },
    {
     "name": "stdout",
     "output_type": "stream",
     "text": [
      "torch.Size([1008, 226, 768])\n",
      "torch.Size([1008, 768])\n"
     ]
    },
    {
     "name": "stderr",
     "output_type": "stream",
     "text": [
      "\n"
     ]
    }
   ],
   "source": [
    "train_embeddings = generate_embeddings(train_encodings, batch_size)\n",
    "print(train_embeddings.shape)\n",
    "train_embeddings = torch.mean(train_embeddings, dim=1)\n",
    "print(train_embeddings.shape)"
   ]
  },
  {
   "cell_type": "code",
   "execution_count": 21,
   "id": "4946aa76-c528-4187-92b1-86531d92c493",
   "metadata": {
    "execution": {
     "iopub.execute_input": "2025-07-13T05:07:07.354714Z",
     "iopub.status.busy": "2025-07-13T05:07:07.354172Z",
     "iopub.status.idle": "2025-07-13T05:07:07.485317Z",
     "shell.execute_reply": "2025-07-13T05:07:07.484773Z",
     "shell.execute_reply.started": "2025-07-13T05:07:07.354684Z"
    }
   },
   "outputs": [],
   "source": [
    "column_names = [f'x_fine_emb_MFXL{i}' for i in range(train_embeddings.shape[1])]\n",
    "embeddings_df = pd.DataFrame(data=train_embeddings.cpu().numpy(), columns=column_names)\n",
    "train_data = pd.concat([train_df, embeddings_df], axis=1)\n"
   ]
  },
  {
   "cell_type": "code",
   "execution_count": 22,
   "id": "120c3704-b8c6-4f63-823a-192c7df98112",
   "metadata": {
    "execution": {
     "iopub.execute_input": "2025-07-13T05:07:07.488067Z",
     "iopub.status.busy": "2025-07-13T05:07:07.487879Z",
     "iopub.status.idle": "2025-07-13T05:07:09.602241Z",
     "shell.execute_reply": "2025-07-13T05:07:09.601480Z",
     "shell.execute_reply.started": "2025-07-13T05:07:07.488053Z"
    }
   },
   "outputs": [
    {
     "name": "stderr",
     "output_type": "stream",
     "text": [
      "Processing batches: 100%|██████████| 16/16 [00:02<00:00,  7.60it/s]"
     ]
    },
    {
     "name": "stdout",
     "output_type": "stream",
     "text": [
      "torch.Size([252, 224, 768])\n",
      "torch.Size([252, 768])\n"
     ]
    },
    {
     "name": "stderr",
     "output_type": "stream",
     "text": [
      "\n"
     ]
    }
   ],
   "source": [
    "test_embeddings = generate_embeddings(test_encodings, batch_size)\n",
    "print(test_embeddings.shape)\n",
    "test_embeddings = torch.mean(test_embeddings, dim=1)\n",
    "print(test_embeddings.shape)"
   ]
  },
  {
   "cell_type": "code",
   "execution_count": 23,
   "id": "4b1c98c1-e61a-4363-90ce-0a776782ba8a",
   "metadata": {
    "execution": {
     "iopub.execute_input": "2025-07-13T05:07:09.603113Z",
     "iopub.status.busy": "2025-07-13T05:07:09.602900Z",
     "iopub.status.idle": "2025-07-13T05:07:09.689949Z",
     "shell.execute_reply": "2025-07-13T05:07:09.689380Z",
     "shell.execute_reply.started": "2025-07-13T05:07:09.603097Z"
    }
   },
   "outputs": [],
   "source": [
    "column_names = [f'x_fine_emb_MFXL{i}' for i in range(test_embeddings.shape[1])]\n",
    "embeddings_df = pd.DataFrame(data=test_embeddings.cpu().numpy(), columns=column_names)\n",
    "test_data = pd.concat([test_df, embeddings_df], axis=1)"
   ]
  },
  {
   "cell_type": "code",
   "execution_count": 24,
   "id": "e50f9b93-befe-4ede-a418-0550c3b8346b",
   "metadata": {
    "execution": {
     "iopub.execute_input": "2025-07-13T05:07:09.690910Z",
     "iopub.status.busy": "2025-07-13T05:07:09.690633Z",
     "iopub.status.idle": "2025-07-13T05:07:10.696181Z",
     "shell.execute_reply": "2025-07-13T05:07:10.695629Z",
     "shell.execute_reply.started": "2025-07-13T05:07:09.690884Z"
    }
   },
   "outputs": [],
   "source": [
    "train_data.to_csv(\"/kaggle/working/Train_MoLFormer-XL-both-10pct_model_1_fine_tuned_embeddings_caco2.csv\",index=False)\n",
    "test_data.to_csv(\"/kaggle/working/Test_MoLFormer-XL-both-10pct_model_1_fine_tuned_embeddings_caco2.csv\",index=False)"
   ]
  },
  {
   "cell_type": "code",
   "execution_count": null,
   "id": "786620b2",
   "metadata": {},
   "outputs": [],
   "source": []
  },
  {
   "cell_type": "code",
   "execution_count": 25,
   "id": "92ed4099-571b-4754-8c59-32dad30bb8f5",
   "metadata": {
    "execution": {
     "iopub.execute_input": "2025-07-13T05:07:10.697146Z",
     "iopub.status.busy": "2025-07-13T05:07:10.696917Z",
     "iopub.status.idle": "2025-07-13T05:07:14.464546Z",
     "shell.execute_reply": "2025-07-13T05:07:14.463687Z",
     "shell.execute_reply.started": "2025-07-13T05:07:10.697128Z"
    }
   },
   "outputs": [],
   "source": [
    "import numpy as np\n",
    "import pandas as pd\n",
    "from sklearn.tree import DecisionTreeRegressor\n",
    "from sklearn.ensemble import RandomForestRegressor, GradientBoostingRegressor, AdaBoostRegressor, ExtraTreesRegressor\n",
    "from sklearn.linear_model import LinearRegression\n",
    "from sklearn.neighbors import KNeighborsRegressor\n",
    "from sklearn.svm import SVR\n",
    "from sklearn.neural_network import MLPRegressor\n",
    "import xgboost as xgb\n",
    "import lightgbm as lgb\n",
    "from sklearn.model_selection import KFold, GridSearchCV\n",
    "from sklearn.preprocessing import StandardScaler\n",
    "from sklearn.metrics import mean_absolute_error, mean_squared_error, r2_score\n",
    "from scipy.stats import pearsonr, spearmanr\n",
    "from sklearn.model_selection import train_test_split\n",
    "import matplotlib.pyplot as plt"
   ]
  },
  {
   "cell_type": "code",
   "execution_count": 26,
   "id": "aee84f62",
   "metadata": {
    "execution": {
     "iopub.execute_input": "2025-07-13T05:07:14.466025Z",
     "iopub.status.busy": "2025-07-13T05:07:14.465403Z",
     "iopub.status.idle": "2025-07-13T05:07:14.688435Z",
     "shell.execute_reply": "2025-07-13T05:07:14.687558Z",
     "shell.execute_reply.started": "2025-07-13T05:07:14.466003Z"
    }
   },
   "outputs": [],
   "source": [
    "train_data = pd.read_csv(\"/kaggle/working/Train_MoLFormer-XL-both-10pct_model_1_fine_tuned_embeddings_caco2.csv\")\n",
    "test_data = pd.read_csv(\"/kaggle/working/Test_MoLFormer-XL-both-10pct_model_1_fine_tuned_embeddings_caco2.csv\")"
   ]
  },
  {
   "cell_type": "code",
   "execution_count": 27,
   "id": "aeb8e51f-eca2-45b7-b7c2-5c185e9406ec",
   "metadata": {
    "execution": {
     "iopub.execute_input": "2025-07-13T05:07:14.689797Z",
     "iopub.status.busy": "2025-07-13T05:07:14.689480Z",
     "iopub.status.idle": "2025-07-13T05:07:14.700256Z",
     "shell.execute_reply": "2025-07-13T05:07:14.699399Z",
     "shell.execute_reply.started": "2025-07-13T05:07:14.689770Z"
    }
   },
   "outputs": [],
   "source": [
    "def train_and_test_predict(models, X_train, y_train, X_test, y_test):\n",
    "    kf = KFold(n_splits=5, shuffle=True, random_state=101)\n",
    "    results = {}\n",
    "    predictions = []  \n",
    "\n",
    "    for model in models:\n",
    "        model_name = model.__class__.__name__\n",
    "        predictions_train = []\n",
    "        actual_y_train = []\n",
    "\n",
    "        test_predictions_folds = []\n",
    "\n",
    "        \n",
    "\n",
    "        for train_index, val_index in kf.split(X_train):\n",
    "            X_train_fold, X_val_fold = X_train.iloc[train_index], X_train.iloc[val_index]\n",
    "            y_train_fold, y_val_fold = y_train.iloc[train_index], y_train.iloc[val_index]\n",
    "\n",
    "            model.fit(X_train_fold, y_train_fold)\n",
    "\n",
    "            y_pred_fold = model.predict(X_val_fold)\n",
    "            y_pred_fold = np.clip(y_pred_fold, -10, -3.9)\n",
    "            predictions_train.extend(y_pred_fold)\n",
    "            actual_y_train.extend(y_val_fold)\n",
    "\n",
    "            predictions_test_fold = model.predict(X_test)\n",
    "            predictions_test_fold = np.clip(predictions_test_fold, -10, -3.9)\n",
    "            test_predictions_folds.append(predictions_test_fold)\n",
    "\n",
    "\n",
    "        mse_train = mean_squared_error(actual_y_train, predictions_train)\n",
    "        mae_train = mean_absolute_error(actual_y_train, predictions_train)\n",
    "        rmse_train = np.sqrt(mse_train)\n",
    "        r2_train = r2_score(actual_y_train, predictions_train)\n",
    "        pearson_train, _ = pearsonr(actual_y_train, predictions_train)\n",
    "        spearman_train, _ = spearmanr(actual_y_train, predictions_train)\n",
    "\n",
    "\n",
    "        predictions_test_mean = np.mean(test_predictions_folds, axis=0)\n",
    "        predictions_test_std = np.std(test_predictions_folds, axis=0)\n",
    "\n",
    "        mse_test = mean_squared_error(y_test, predictions_test_mean)\n",
    "        mae_test = mean_absolute_error(y_test, predictions_test_mean)\n",
    "        rmse_test = np.sqrt(mse_test)\n",
    "        r2_test = r2_score(y_test, predictions_test_mean)\n",
    "        print(r2_test)\n",
    "        pearson_test, _ = pearsonr(y_test, predictions_test_mean)\n",
    "        spearman_test, _ = spearmanr(y_test, predictions_test_mean)\n",
    "        \n",
    "        \n",
    "\n",
    "        predictions.append({\n",
    "            'Model': model_name,\n",
    "            'Y Train pred': predictions_train,\n",
    "            'Y Test actual': y_test,\n",
    "            'Test prediction folds': test_predictions_folds,\n",
    "            'Test Predictions Mean': predictions_test_mean,\n",
    "            'Test Predictions Std': predictions_test_std,\n",
    "\n",
    "        })\n",
    "\n",
    "        results[model_name] = {\n",
    "            'Train MSE (5 fold cv)': f\"{mse_train:.4f}\",\n",
    "            'Train MAE (5 fold cv)': f\"{mae_train:.4f}\",\n",
    "            'Train RMSE (5 fold cv)': f\"{rmse_train:.4f}\",\n",
    "            'Train RMSE (5 fold cv)': f\"{rmse_train:.4f}\",\n",
    "            'Train R2 (5 fold cv)': f\"{r2_train:.4f}\",\n",
    "            'Train PCC (5 fold cv)': f\"{pearson_train:.4f}\",\n",
    "            'Train SCC (5 fold cv)': f\"{spearman_train:.4f}\",\n",
    "            'Test MSE': f\"{mse_test:.4f}\",\n",
    "            'Test MAE': f\"{mae_test:.4f}\",\n",
    "            'Test RMSE': f\"{rmse_test:.4f}\",\n",
    "            'Test R2': f\"{r2_test:.4f}\",\n",
    "            'Test Pearson Correlation': f\"{pearson_test:.4f}\",\n",
    "            'Test Spearman Correlation': f\"{spearman_test:.4f}\",\n",
    "        }\n",
    "\n",
    "    results_df = pd.DataFrame(results).T\n",
    "    predictions_df = pd.DataFrame(predictions)\n",
    "\n",
    "    return results_df, predictions_df\n",
    "\n"
   ]
  },
  {
   "cell_type": "code",
   "execution_count": 28,
   "id": "152c2ac3-89bd-4d22-a778-6781d46adc13",
   "metadata": {
    "execution": {
     "iopub.execute_input": "2025-07-13T05:07:14.701450Z",
     "iopub.status.busy": "2025-07-13T05:07:14.701175Z",
     "iopub.status.idle": "2025-07-13T05:13:05.302696Z",
     "shell.execute_reply": "2025-07-13T05:13:05.301850Z",
     "shell.execute_reply.started": "2025-07-13T05:07:14.701422Z"
    },
    "scrolled": true
   },
   "outputs": [
    {
     "name": "stdout",
     "output_type": "stream",
     "text": [
      "X_train shape:  (1008, 768)\n",
      "y_train shape:  (1008,)\n",
      "XXXXXXXXXXXXXXXXXXXXXXXXXXXXXXXXXXXXXXXXXXXXXXXXXXXXXXXXXXXXXXXXXXXXXXXXXXX\n",
      "X_test shape:  (252, 768)\n",
      "y_test shape:  (252,)\n",
      "XXXXXXXXXXXXXXXXXXXXXXXXXXXXXXXXXXXXXXXXXXXXXXXXXXXXXXXXXXXXXXXXXXXXXXXXXXX\n",
      "[LightGBM] [Info] Auto-choosing col-wise multi-threading, the overhead of testing was 0.008664 seconds.\n",
      "You can set `force_col_wise=true` to remove the overhead.\n",
      "[LightGBM] [Info] Total Bins 195840\n",
      "[LightGBM] [Info] Number of data points in the train set: 806, number of used features: 768\n",
      "[LightGBM] [Info] Start training from score -6.296846\n",
      "[LightGBM] [Warning] No further splits with positive gain, best gain: -inf\n",
      "[LightGBM] [Warning] No further splits with positive gain, best gain: -inf\n",
      "[LightGBM] [Warning] No further splits with positive gain, best gain: -inf\n",
      "[LightGBM] [Warning] No further splits with positive gain, best gain: -inf\n",
      "[LightGBM] [Warning] No further splits with positive gain, best gain: -inf\n",
      "[LightGBM] [Warning] No further splits with positive gain, best gain: -inf\n",
      "[LightGBM] [Warning] No further splits with positive gain, best gain: -inf\n",
      "[LightGBM] [Warning] No further splits with positive gain, best gain: -inf\n",
      "[LightGBM] [Warning] No further splits with positive gain, best gain: -inf\n",
      "[LightGBM] [Warning] No further splits with positive gain, best gain: -inf\n",
      "[LightGBM] [Warning] No further splits with positive gain, best gain: -inf\n",
      "[LightGBM] [Warning] No further splits with positive gain, best gain: -inf\n",
      "[LightGBM] [Warning] No further splits with positive gain, best gain: -inf\n",
      "[LightGBM] [Warning] No further splits with positive gain, best gain: -inf\n",
      "[LightGBM] [Warning] No further splits with positive gain, best gain: -inf\n",
      "[LightGBM] [Warning] No further splits with positive gain, best gain: -inf\n",
      "[LightGBM] [Warning] No further splits with positive gain, best gain: -inf\n",
      "[LightGBM] [Warning] No further splits with positive gain, best gain: -inf\n",
      "[LightGBM] [Warning] No further splits with positive gain, best gain: -inf\n",
      "[LightGBM] [Warning] No further splits with positive gain, best gain: -inf\n",
      "[LightGBM] [Warning] No further splits with positive gain, best gain: -inf\n",
      "[LightGBM] [Warning] No further splits with positive gain, best gain: -inf\n",
      "[LightGBM] [Warning] No further splits with positive gain, best gain: -inf\n",
      "[LightGBM] [Warning] No further splits with positive gain, best gain: -inf\n",
      "[LightGBM] [Info] Auto-choosing col-wise multi-threading, the overhead of testing was 0.008697 seconds.\n",
      "You can set `force_col_wise=true` to remove the overhead.\n",
      "[LightGBM] [Info] Total Bins 195840\n",
      "[LightGBM] [Info] Number of data points in the train set: 806, number of used features: 768\n",
      "[LightGBM] [Info] Start training from score -6.274773\n",
      "[LightGBM] [Warning] No further splits with positive gain, best gain: -inf\n",
      "[LightGBM] [Warning] No further splits with positive gain, best gain: -inf\n",
      "[LightGBM] [Warning] No further splits with positive gain, best gain: -inf\n",
      "[LightGBM] [Warning] No further splits with positive gain, best gain: -inf\n",
      "[LightGBM] [Warning] No further splits with positive gain, best gain: -inf\n",
      "[LightGBM] [Warning] No further splits with positive gain, best gain: -inf\n",
      "[LightGBM] [Warning] No further splits with positive gain, best gain: -inf\n",
      "[LightGBM] [Warning] No further splits with positive gain, best gain: -inf\n",
      "[LightGBM] [Warning] No further splits with positive gain, best gain: -inf\n",
      "[LightGBM] [Warning] No further splits with positive gain, best gain: -inf\n",
      "[LightGBM] [Warning] No further splits with positive gain, best gain: -inf\n",
      "[LightGBM] [Warning] No further splits with positive gain, best gain: -inf\n",
      "[LightGBM] [Warning] No further splits with positive gain, best gain: -inf\n",
      "[LightGBM] [Warning] No further splits with positive gain, best gain: -inf\n",
      "[LightGBM] [Warning] No further splits with positive gain, best gain: -inf\n",
      "[LightGBM] [Warning] No further splits with positive gain, best gain: -inf\n",
      "[LightGBM] [Warning] No further splits with positive gain, best gain: -inf\n",
      "[LightGBM] [Warning] No further splits with positive gain, best gain: -inf\n",
      "[LightGBM] [Warning] No further splits with positive gain, best gain: -inf\n",
      "[LightGBM] [Warning] No further splits with positive gain, best gain: -inf\n",
      "[LightGBM] [Warning] No further splits with positive gain, best gain: -inf\n",
      "[LightGBM] [Warning] No further splits with positive gain, best gain: -inf\n",
      "[LightGBM] [Warning] No further splits with positive gain, best gain: -inf\n",
      "[LightGBM] [Warning] No further splits with positive gain, best gain: -inf\n",
      "[LightGBM] [Warning] No further splits with positive gain, best gain: -inf\n",
      "[LightGBM] [Warning] No further splits with positive gain, best gain: -inf\n",
      "[LightGBM] [Warning] No further splits with positive gain, best gain: -inf\n",
      "[LightGBM] [Warning] No further splits with positive gain, best gain: -inf\n",
      "[LightGBM] [Warning] No further splits with positive gain, best gain: -inf\n",
      "[LightGBM] [Info] Auto-choosing col-wise multi-threading, the overhead of testing was 0.008172 seconds.\n",
      "You can set `force_col_wise=true` to remove the overhead.\n",
      "[LightGBM] [Info] Total Bins 195840\n",
      "[LightGBM] [Info] Number of data points in the train set: 806, number of used features: 768\n",
      "[LightGBM] [Info] Start training from score -6.275399\n",
      "[LightGBM] [Warning] No further splits with positive gain, best gain: -inf\n",
      "[LightGBM] [Warning] No further splits with positive gain, best gain: -inf\n",
      "[LightGBM] [Warning] No further splits with positive gain, best gain: -inf\n",
      "[LightGBM] [Warning] No further splits with positive gain, best gain: -inf\n",
      "[LightGBM] [Warning] No further splits with positive gain, best gain: -inf\n",
      "[LightGBM] [Warning] No further splits with positive gain, best gain: -inf\n",
      "[LightGBM] [Warning] No further splits with positive gain, best gain: -inf\n",
      "[LightGBM] [Warning] No further splits with positive gain, best gain: -inf\n",
      "[LightGBM] [Warning] No further splits with positive gain, best gain: -inf\n",
      "[LightGBM] [Warning] No further splits with positive gain, best gain: -inf\n",
      "[LightGBM] [Warning] No further splits with positive gain, best gain: -inf\n",
      "[LightGBM] [Warning] No further splits with positive gain, best gain: -inf\n",
      "[LightGBM] [Warning] No further splits with positive gain, best gain: -inf\n",
      "[LightGBM] [Warning] No further splits with positive gain, best gain: -inf\n",
      "[LightGBM] [Warning] No further splits with positive gain, best gain: -inf\n",
      "[LightGBM] [Warning] No further splits with positive gain, best gain: -inf\n",
      "[LightGBM] [Warning] No further splits with positive gain, best gain: -inf\n",
      "[LightGBM] [Warning] No further splits with positive gain, best gain: -inf\n",
      "[LightGBM] [Warning] No further splits with positive gain, best gain: -inf\n",
      "[LightGBM] [Warning] No further splits with positive gain, best gain: -inf\n",
      "[LightGBM] [Warning] No further splits with positive gain, best gain: -inf\n",
      "[LightGBM] [Warning] No further splits with positive gain, best gain: -inf\n",
      "[LightGBM] [Info] Auto-choosing col-wise multi-threading, the overhead of testing was 0.009443 seconds.\n",
      "You can set `force_col_wise=true` to remove the overhead.\n",
      "[LightGBM] [Info] Total Bins 195840\n",
      "[LightGBM] [Info] Number of data points in the train set: 807, number of used features: 768\n",
      "[LightGBM] [Info] Start training from score -6.296788\n",
      "[LightGBM] [Warning] No further splits with positive gain, best gain: -inf\n",
      "[LightGBM] [Warning] No further splits with positive gain, best gain: -inf\n",
      "[LightGBM] [Warning] No further splits with positive gain, best gain: -inf\n",
      "[LightGBM] [Warning] No further splits with positive gain, best gain: -inf\n",
      "[LightGBM] [Warning] No further splits with positive gain, best gain: -inf\n",
      "[LightGBM] [Warning] No further splits with positive gain, best gain: -inf\n",
      "[LightGBM] [Warning] No further splits with positive gain, best gain: -inf\n",
      "[LightGBM] [Warning] No further splits with positive gain, best gain: -inf\n",
      "[LightGBM] [Warning] No further splits with positive gain, best gain: -inf\n",
      "[LightGBM] [Warning] No further splits with positive gain, best gain: -inf\n",
      "[LightGBM] [Warning] No further splits with positive gain, best gain: -inf\n",
      "[LightGBM] [Warning] No further splits with positive gain, best gain: -inf\n",
      "[LightGBM] [Warning] No further splits with positive gain, best gain: -inf\n",
      "[LightGBM] [Warning] No further splits with positive gain, best gain: -inf\n",
      "[LightGBM] [Warning] No further splits with positive gain, best gain: -inf\n",
      "[LightGBM] [Warning] No further splits with positive gain, best gain: -inf\n",
      "[LightGBM] [Warning] No further splits with positive gain, best gain: -inf\n",
      "[LightGBM] [Warning] No further splits with positive gain, best gain: -inf\n",
      "[LightGBM] [Warning] No further splits with positive gain, best gain: -inf\n",
      "[LightGBM] [Warning] No further splits with positive gain, best gain: -inf\n",
      "[LightGBM] [Warning] No further splits with positive gain, best gain: -inf\n",
      "[LightGBM] [Warning] No further splits with positive gain, best gain: -inf\n",
      "[LightGBM] [Warning] No further splits with positive gain, best gain: -inf\n",
      "[LightGBM] [Warning] No further splits with positive gain, best gain: -inf\n",
      "[LightGBM] [Warning] No further splits with positive gain, best gain: -inf\n",
      "[LightGBM] [Warning] No further splits with positive gain, best gain: -inf\n",
      "[LightGBM] [Warning] No further splits with positive gain, best gain: -inf\n",
      "[LightGBM] [Warning] No further splits with positive gain, best gain: -inf\n",
      "[LightGBM] [Warning] No further splits with positive gain, best gain: -inf\n",
      "[LightGBM] [Warning] No further splits with positive gain, best gain: -inf\n",
      "[LightGBM] [Warning] No further splits with positive gain, best gain: -inf\n",
      "[LightGBM] [Warning] No further splits with positive gain, best gain: -inf\n",
      "[LightGBM] [Warning] No further splits with positive gain, best gain: -inf\n",
      "[LightGBM] [Info] Auto-choosing col-wise multi-threading, the overhead of testing was 0.008787 seconds.\n",
      "You can set `force_col_wise=true` to remove the overhead.\n",
      "[LightGBM] [Info] Total Bins 195840\n",
      "[LightGBM] [Info] Number of data points in the train set: 807, number of used features: 768\n",
      "[LightGBM] [Info] Start training from score -6.281145\n",
      "[LightGBM] [Warning] No further splits with positive gain, best gain: -inf\n",
      "[LightGBM] [Warning] No further splits with positive gain, best gain: -inf\n",
      "[LightGBM] [Warning] No further splits with positive gain, best gain: -inf\n",
      "[LightGBM] [Warning] No further splits with positive gain, best gain: -inf\n",
      "[LightGBM] [Warning] No further splits with positive gain, best gain: -inf\n",
      "[LightGBM] [Warning] No further splits with positive gain, best gain: -inf\n",
      "[LightGBM] [Warning] No further splits with positive gain, best gain: -inf\n",
      "[LightGBM] [Warning] No further splits with positive gain, best gain: -inf\n",
      "[LightGBM] [Warning] No further splits with positive gain, best gain: -inf\n",
      "[LightGBM] [Warning] No further splits with positive gain, best gain: -inf\n",
      "[LightGBM] [Warning] No further splits with positive gain, best gain: -inf\n",
      "[LightGBM] [Warning] No further splits with positive gain, best gain: -inf\n",
      "[LightGBM] [Warning] No further splits with positive gain, best gain: -inf\n",
      "[LightGBM] [Warning] No further splits with positive gain, best gain: -inf\n",
      "[LightGBM] [Warning] No further splits with positive gain, best gain: -inf\n",
      "[LightGBM] [Warning] No further splits with positive gain, best gain: -inf\n",
      "[LightGBM] [Warning] No further splits with positive gain, best gain: -inf\n",
      "[LightGBM] [Warning] No further splits with positive gain, best gain: -inf\n",
      "[LightGBM] [Warning] No further splits with positive gain, best gain: -inf\n",
      "[LightGBM] [Warning] No further splits with positive gain, best gain: -inf\n",
      "[LightGBM] [Warning] No further splits with positive gain, best gain: -inf\n",
      "[LightGBM] [Warning] No further splits with positive gain, best gain: -inf\n",
      "[LightGBM] [Warning] No further splits with positive gain, best gain: -inf\n",
      "[LightGBM] [Warning] No further splits with positive gain, best gain: -inf\n",
      "[LightGBM] [Warning] No further splits with positive gain, best gain: -inf\n",
      "[LightGBM] [Warning] No further splits with positive gain, best gain: -inf\n",
      "[LightGBM] [Warning] No further splits with positive gain, best gain: -inf\n",
      "[LightGBM] [Warning] No further splits with positive gain, best gain: -inf\n",
      "0.6456828541197055\n",
      "0.5644933707936715\n",
      "0.640763521609317\n",
      "0.643469140963517\n",
      "0.6294234826553609\n",
      "0.6311509488547355\n",
      "0.6503919104504572\n",
      "-1.0513253207040507\n",
      "0.6187935634641577\n",
      "0.6465061668567176\n",
      "0.35401405556665233\n"
     ]
    },
    {
     "data": {
      "text/html": [
       "<div>\n",
       "<style scoped>\n",
       "    .dataframe tbody tr th:only-of-type {\n",
       "        vertical-align: middle;\n",
       "    }\n",
       "\n",
       "    .dataframe tbody tr th {\n",
       "        vertical-align: top;\n",
       "    }\n",
       "\n",
       "    .dataframe thead th {\n",
       "        text-align: right;\n",
       "    }\n",
       "</style>\n",
       "<table border=\"1\" class=\"dataframe\">\n",
       "  <thead>\n",
       "    <tr style=\"text-align: right;\">\n",
       "      <th></th>\n",
       "      <th>Train MSE (5 fold cv)</th>\n",
       "      <th>Train MAE (5 fold cv)</th>\n",
       "      <th>Train RMSE (5 fold cv)</th>\n",
       "      <th>Train R2 (5 fold cv)</th>\n",
       "      <th>Train PCC (5 fold cv)</th>\n",
       "      <th>Train SCC (5 fold cv)</th>\n",
       "      <th>Test MSE</th>\n",
       "      <th>Test MAE</th>\n",
       "      <th>Test RMSE</th>\n",
       "      <th>Test R2</th>\n",
       "      <th>Test Pearson Correlation</th>\n",
       "      <th>Test Spearman Correlation</th>\n",
       "    </tr>\n",
       "  </thead>\n",
       "  <tbody>\n",
       "    <tr>\n",
       "      <th>LGBMRegressor</th>\n",
       "      <td>0.1798</td>\n",
       "      <td>0.3167</td>\n",
       "      <td>0.4241</td>\n",
       "      <td>0.7034</td>\n",
       "      <td>0.8387</td>\n",
       "      <td>0.8226</td>\n",
       "      <td>0.2051</td>\n",
       "      <td>0.3520</td>\n",
       "      <td>0.4528</td>\n",
       "      <td>0.6457</td>\n",
       "      <td>0.8057</td>\n",
       "      <td>0.7835</td>\n",
       "    </tr>\n",
       "    <tr>\n",
       "      <th>DecisionTreeRegressor</th>\n",
       "      <td>0.3806</td>\n",
       "      <td>0.4564</td>\n",
       "      <td>0.6169</td>\n",
       "      <td>0.3723</td>\n",
       "      <td>0.6862</td>\n",
       "      <td>0.6592</td>\n",
       "      <td>0.2520</td>\n",
       "      <td>0.3864</td>\n",
       "      <td>0.5020</td>\n",
       "      <td>0.5645</td>\n",
       "      <td>0.7575</td>\n",
       "      <td>0.7170</td>\n",
       "    </tr>\n",
       "    <tr>\n",
       "      <th>RandomForestRegressor</th>\n",
       "      <td>0.1763</td>\n",
       "      <td>0.3143</td>\n",
       "      <td>0.4198</td>\n",
       "      <td>0.7093</td>\n",
       "      <td>0.8426</td>\n",
       "      <td>0.8255</td>\n",
       "      <td>0.2079</td>\n",
       "      <td>0.3562</td>\n",
       "      <td>0.4560</td>\n",
       "      <td>0.6408</td>\n",
       "      <td>0.8034</td>\n",
       "      <td>0.7791</td>\n",
       "    </tr>\n",
       "    <tr>\n",
       "      <th>GradientBoostingRegressor</th>\n",
       "      <td>0.1783</td>\n",
       "      <td>0.3161</td>\n",
       "      <td>0.4223</td>\n",
       "      <td>0.7059</td>\n",
       "      <td>0.8402</td>\n",
       "      <td>0.8220</td>\n",
       "      <td>0.2063</td>\n",
       "      <td>0.3535</td>\n",
       "      <td>0.4542</td>\n",
       "      <td>0.6435</td>\n",
       "      <td>0.8053</td>\n",
       "      <td>0.7843</td>\n",
       "    </tr>\n",
       "    <tr>\n",
       "      <th>AdaBoostRegressor</th>\n",
       "      <td>0.1973</td>\n",
       "      <td>0.3398</td>\n",
       "      <td>0.4442</td>\n",
       "      <td>0.6746</td>\n",
       "      <td>0.8248</td>\n",
       "      <td>0.8032</td>\n",
       "      <td>0.2145</td>\n",
       "      <td>0.3689</td>\n",
       "      <td>0.4631</td>\n",
       "      <td>0.6294</td>\n",
       "      <td>0.8052</td>\n",
       "      <td>0.7865</td>\n",
       "    </tr>\n",
       "    <tr>\n",
       "      <th>XGBRegressor</th>\n",
       "      <td>0.1997</td>\n",
       "      <td>0.3376</td>\n",
       "      <td>0.4469</td>\n",
       "      <td>0.6706</td>\n",
       "      <td>0.8200</td>\n",
       "      <td>0.8018</td>\n",
       "      <td>0.2135</td>\n",
       "      <td>0.3622</td>\n",
       "      <td>0.4620</td>\n",
       "      <td>0.6312</td>\n",
       "      <td>0.7970</td>\n",
       "      <td>0.7813</td>\n",
       "    </tr>\n",
       "    <tr>\n",
       "      <th>ExtraTreesRegressor</th>\n",
       "      <td>0.1764</td>\n",
       "      <td>0.3143</td>\n",
       "      <td>0.4200</td>\n",
       "      <td>0.7091</td>\n",
       "      <td>0.8423</td>\n",
       "      <td>0.8251</td>\n",
       "      <td>0.2023</td>\n",
       "      <td>0.3506</td>\n",
       "      <td>0.4498</td>\n",
       "      <td>0.6504</td>\n",
       "      <td>0.8094</td>\n",
       "      <td>0.7893</td>\n",
       "    </tr>\n",
       "    <tr>\n",
       "      <th>LinearRegression</th>\n",
       "      <td>3.0705</td>\n",
       "      <td>1.4237</td>\n",
       "      <td>1.7523</td>\n",
       "      <td>-4.0640</td>\n",
       "      <td>0.2805</td>\n",
       "      <td>0.2813</td>\n",
       "      <td>1.1871</td>\n",
       "      <td>0.8221</td>\n",
       "      <td>1.0896</td>\n",
       "      <td>-1.0513</td>\n",
       "      <td>0.3627</td>\n",
       "      <td>0.3460</td>\n",
       "    </tr>\n",
       "    <tr>\n",
       "      <th>KNeighborsRegressor</th>\n",
       "      <td>0.2151</td>\n",
       "      <td>0.3448</td>\n",
       "      <td>0.4638</td>\n",
       "      <td>0.6452</td>\n",
       "      <td>0.8085</td>\n",
       "      <td>0.7752</td>\n",
       "      <td>0.2206</td>\n",
       "      <td>0.3526</td>\n",
       "      <td>0.4697</td>\n",
       "      <td>0.6188</td>\n",
       "      <td>0.7904</td>\n",
       "      <td>0.7709</td>\n",
       "    </tr>\n",
       "    <tr>\n",
       "      <th>SVR</th>\n",
       "      <td>0.1742</td>\n",
       "      <td>0.3139</td>\n",
       "      <td>0.4173</td>\n",
       "      <td>0.7127</td>\n",
       "      <td>0.8444</td>\n",
       "      <td>0.8337</td>\n",
       "      <td>0.2046</td>\n",
       "      <td>0.3466</td>\n",
       "      <td>0.4523</td>\n",
       "      <td>0.6465</td>\n",
       "      <td>0.8062</td>\n",
       "      <td>0.7985</td>\n",
       "    </tr>\n",
       "    <tr>\n",
       "      <th>MLPRegressor</th>\n",
       "      <td>0.6035</td>\n",
       "      <td>0.5891</td>\n",
       "      <td>0.7769</td>\n",
       "      <td>0.0046</td>\n",
       "      <td>0.6004</td>\n",
       "      <td>0.6061</td>\n",
       "      <td>0.3738</td>\n",
       "      <td>0.4753</td>\n",
       "      <td>0.6114</td>\n",
       "      <td>0.3540</td>\n",
       "      <td>0.6770</td>\n",
       "      <td>0.6771</td>\n",
       "    </tr>\n",
       "  </tbody>\n",
       "</table>\n",
       "</div>"
      ],
      "text/plain": [
       "                          Train MSE (5 fold cv) Train MAE (5 fold cv)  \\\n",
       "LGBMRegressor                            0.1798                0.3167   \n",
       "DecisionTreeRegressor                    0.3806                0.4564   \n",
       "RandomForestRegressor                    0.1763                0.3143   \n",
       "GradientBoostingRegressor                0.1783                0.3161   \n",
       "AdaBoostRegressor                        0.1973                0.3398   \n",
       "XGBRegressor                             0.1997                0.3376   \n",
       "ExtraTreesRegressor                      0.1764                0.3143   \n",
       "LinearRegression                         3.0705                1.4237   \n",
       "KNeighborsRegressor                      0.2151                0.3448   \n",
       "SVR                                      0.1742                0.3139   \n",
       "MLPRegressor                             0.6035                0.5891   \n",
       "\n",
       "                          Train RMSE (5 fold cv) Train R2 (5 fold cv)  \\\n",
       "LGBMRegressor                             0.4241               0.7034   \n",
       "DecisionTreeRegressor                     0.6169               0.3723   \n",
       "RandomForestRegressor                     0.4198               0.7093   \n",
       "GradientBoostingRegressor                 0.4223               0.7059   \n",
       "AdaBoostRegressor                         0.4442               0.6746   \n",
       "XGBRegressor                              0.4469               0.6706   \n",
       "ExtraTreesRegressor                       0.4200               0.7091   \n",
       "LinearRegression                          1.7523              -4.0640   \n",
       "KNeighborsRegressor                       0.4638               0.6452   \n",
       "SVR                                       0.4173               0.7127   \n",
       "MLPRegressor                              0.7769               0.0046   \n",
       "\n",
       "                          Train PCC (5 fold cv) Train SCC (5 fold cv)  \\\n",
       "LGBMRegressor                            0.8387                0.8226   \n",
       "DecisionTreeRegressor                    0.6862                0.6592   \n",
       "RandomForestRegressor                    0.8426                0.8255   \n",
       "GradientBoostingRegressor                0.8402                0.8220   \n",
       "AdaBoostRegressor                        0.8248                0.8032   \n",
       "XGBRegressor                             0.8200                0.8018   \n",
       "ExtraTreesRegressor                      0.8423                0.8251   \n",
       "LinearRegression                         0.2805                0.2813   \n",
       "KNeighborsRegressor                      0.8085                0.7752   \n",
       "SVR                                      0.8444                0.8337   \n",
       "MLPRegressor                             0.6004                0.6061   \n",
       "\n",
       "                          Test MSE Test MAE Test RMSE  Test R2  \\\n",
       "LGBMRegressor               0.2051   0.3520    0.4528   0.6457   \n",
       "DecisionTreeRegressor       0.2520   0.3864    0.5020   0.5645   \n",
       "RandomForestRegressor       0.2079   0.3562    0.4560   0.6408   \n",
       "GradientBoostingRegressor   0.2063   0.3535    0.4542   0.6435   \n",
       "AdaBoostRegressor           0.2145   0.3689    0.4631   0.6294   \n",
       "XGBRegressor                0.2135   0.3622    0.4620   0.6312   \n",
       "ExtraTreesRegressor         0.2023   0.3506    0.4498   0.6504   \n",
       "LinearRegression            1.1871   0.8221    1.0896  -1.0513   \n",
       "KNeighborsRegressor         0.2206   0.3526    0.4697   0.6188   \n",
       "SVR                         0.2046   0.3466    0.4523   0.6465   \n",
       "MLPRegressor                0.3738   0.4753    0.6114   0.3540   \n",
       "\n",
       "                          Test Pearson Correlation Test Spearman Correlation  \n",
       "LGBMRegressor                               0.8057                    0.7835  \n",
       "DecisionTreeRegressor                       0.7575                    0.7170  \n",
       "RandomForestRegressor                       0.8034                    0.7791  \n",
       "GradientBoostingRegressor                   0.8053                    0.7843  \n",
       "AdaBoostRegressor                           0.8052                    0.7865  \n",
       "XGBRegressor                                0.7970                    0.7813  \n",
       "ExtraTreesRegressor                         0.8094                    0.7893  \n",
       "LinearRegression                            0.3627                    0.3460  \n",
       "KNeighborsRegressor                         0.7904                    0.7709  \n",
       "SVR                                         0.8062                    0.7985  \n",
       "MLPRegressor                                0.6770                    0.6771  "
      ]
     },
     "execution_count": 28,
     "metadata": {},
     "output_type": "execute_result"
    }
   ],
   "source": [
    "X_train = train_data.drop(['ID','SMILES','Permeability'],axis=1)\n",
    "y_train = train_data['Permeability']\n",
    "print(\"X_train shape: \",X_train.shape)\n",
    "print(\"y_train shape: \",y_train.shape)\n",
    "print(\"XXXXXXXXXXXXXXXXXXXXXXXXXXXXXXXXXXXXXXXXXXXXXXXXXXXXXXXXXXXXXXXXXXXXXXXXXXX\")\n",
    "\n",
    "X_test = test_data.drop(['ID','SMILES','Permeability'],axis=1)\n",
    "y_test = test_data['Permeability']\n",
    "print(\"X_test shape: \",X_test.shape)\n",
    "print(\"y_test shape: \",y_test.shape)\n",
    "print(\"XXXXXXXXXXXXXXXXXXXXXXXXXXXXXXXXXXXXXXXXXXXXXXXXXXXXXXXXXXXXXXXXXXXXXXXXXXX\")\n",
    "scaler = StandardScaler()\n",
    "X_train_scaled = scaler.fit_transform(X_train)\n",
    "X_test_scaled = scaler.transform(X_test)\n",
    "X_train = pd.DataFrame(X_train_scaled, columns=X_train.columns, index=X_train.index)\n",
    "X_test = pd.DataFrame(X_test_scaled, columns=X_test.columns, index=X_test.index)\n",
    "models = [\n",
    "    lgb.LGBMRegressor(objective='regression',metric='rmse',boosting_type='gbdt',num_leaves=31,learning_rate=0.05,random_state=101),\n",
    "    DecisionTreeRegressor(random_state=101),\n",
    "    RandomForestRegressor(n_jobs=-1, random_state=101),\n",
    "    GradientBoostingRegressor(random_state=101),\n",
    "    AdaBoostRegressor(random_state=101),\n",
    "    xgb.XGBRegressor(random_state=101),\n",
    "    ExtraTreesRegressor(n_jobs=-1, n_estimators=100, random_state=101),\n",
    "    LinearRegression(), \n",
    "    KNeighborsRegressor(n_neighbors=3),\n",
    "    SVR(),  \n",
    "    MLPRegressor(random_state=101)\n",
    "]\n",
    "result_df, prediction_df = train_and_test_predict(models, X_train,y_train, X_test,  y_test)\n",
    "result_df"
   ]
  },
  {
   "cell_type": "code",
   "execution_count": 29,
   "id": "e6595d83-8b5c-4126-a075-359a3ba3aa46",
   "metadata": {
    "execution": {
     "iopub.execute_input": "2025-07-13T05:13:05.303902Z",
     "iopub.status.busy": "2025-07-13T05:13:05.303635Z",
     "iopub.status.idle": "2025-07-13T05:13:05.316457Z",
     "shell.execute_reply": "2025-07-13T05:13:05.315551Z",
     "shell.execute_reply.started": "2025-07-13T05:13:05.303884Z"
    }
   },
   "outputs": [
    {
     "data": {
      "text/html": [
       "<div>\n",
       "<style scoped>\n",
       "    .dataframe tbody tr th:only-of-type {\n",
       "        vertical-align: middle;\n",
       "    }\n",
       "\n",
       "    .dataframe tbody tr th {\n",
       "        vertical-align: top;\n",
       "    }\n",
       "\n",
       "    .dataframe thead th {\n",
       "        text-align: right;\n",
       "    }\n",
       "</style>\n",
       "<table border=\"1\" class=\"dataframe\">\n",
       "  <thead>\n",
       "    <tr style=\"text-align: right;\">\n",
       "      <th></th>\n",
       "      <th>Train MSE (5 fold cv)</th>\n",
       "      <th>Train MAE (5 fold cv)</th>\n",
       "      <th>Train RMSE (5 fold cv)</th>\n",
       "      <th>Train R2 (5 fold cv)</th>\n",
       "      <th>Train PCC (5 fold cv)</th>\n",
       "      <th>Train SCC (5 fold cv)</th>\n",
       "      <th>Test MSE</th>\n",
       "      <th>Test MAE</th>\n",
       "      <th>Test RMSE</th>\n",
       "      <th>Test R2</th>\n",
       "      <th>Test Pearson Correlation</th>\n",
       "      <th>Test Spearman Correlation</th>\n",
       "    </tr>\n",
       "  </thead>\n",
       "  <tbody>\n",
       "    <tr>\n",
       "      <th>LGBMRegressor</th>\n",
       "      <td>0.1798</td>\n",
       "      <td>0.3167</td>\n",
       "      <td>0.4241</td>\n",
       "      <td>0.7034</td>\n",
       "      <td>0.8387</td>\n",
       "      <td>0.8226</td>\n",
       "      <td>0.2051</td>\n",
       "      <td>0.3520</td>\n",
       "      <td>0.4528</td>\n",
       "      <td>0.6457</td>\n",
       "      <td>0.8057</td>\n",
       "      <td>0.7835</td>\n",
       "    </tr>\n",
       "    <tr>\n",
       "      <th>DecisionTreeRegressor</th>\n",
       "      <td>0.3806</td>\n",
       "      <td>0.4564</td>\n",
       "      <td>0.6169</td>\n",
       "      <td>0.3723</td>\n",
       "      <td>0.6862</td>\n",
       "      <td>0.6592</td>\n",
       "      <td>0.2520</td>\n",
       "      <td>0.3864</td>\n",
       "      <td>0.5020</td>\n",
       "      <td>0.5645</td>\n",
       "      <td>0.7575</td>\n",
       "      <td>0.7170</td>\n",
       "    </tr>\n",
       "    <tr>\n",
       "      <th>RandomForestRegressor</th>\n",
       "      <td>0.1763</td>\n",
       "      <td>0.3143</td>\n",
       "      <td>0.4198</td>\n",
       "      <td>0.7093</td>\n",
       "      <td>0.8426</td>\n",
       "      <td>0.8255</td>\n",
       "      <td>0.2079</td>\n",
       "      <td>0.3562</td>\n",
       "      <td>0.4560</td>\n",
       "      <td>0.6408</td>\n",
       "      <td>0.8034</td>\n",
       "      <td>0.7791</td>\n",
       "    </tr>\n",
       "    <tr>\n",
       "      <th>GradientBoostingRegressor</th>\n",
       "      <td>0.1783</td>\n",
       "      <td>0.3161</td>\n",
       "      <td>0.4223</td>\n",
       "      <td>0.7059</td>\n",
       "      <td>0.8402</td>\n",
       "      <td>0.8220</td>\n",
       "      <td>0.2063</td>\n",
       "      <td>0.3535</td>\n",
       "      <td>0.4542</td>\n",
       "      <td>0.6435</td>\n",
       "      <td>0.8053</td>\n",
       "      <td>0.7843</td>\n",
       "    </tr>\n",
       "    <tr>\n",
       "      <th>AdaBoostRegressor</th>\n",
       "      <td>0.1973</td>\n",
       "      <td>0.3398</td>\n",
       "      <td>0.4442</td>\n",
       "      <td>0.6746</td>\n",
       "      <td>0.8248</td>\n",
       "      <td>0.8032</td>\n",
       "      <td>0.2145</td>\n",
       "      <td>0.3689</td>\n",
       "      <td>0.4631</td>\n",
       "      <td>0.6294</td>\n",
       "      <td>0.8052</td>\n",
       "      <td>0.7865</td>\n",
       "    </tr>\n",
       "    <tr>\n",
       "      <th>XGBRegressor</th>\n",
       "      <td>0.1997</td>\n",
       "      <td>0.3376</td>\n",
       "      <td>0.4469</td>\n",
       "      <td>0.6706</td>\n",
       "      <td>0.8200</td>\n",
       "      <td>0.8018</td>\n",
       "      <td>0.2135</td>\n",
       "      <td>0.3622</td>\n",
       "      <td>0.4620</td>\n",
       "      <td>0.6312</td>\n",
       "      <td>0.7970</td>\n",
       "      <td>0.7813</td>\n",
       "    </tr>\n",
       "    <tr>\n",
       "      <th>ExtraTreesRegressor</th>\n",
       "      <td>0.1764</td>\n",
       "      <td>0.3143</td>\n",
       "      <td>0.4200</td>\n",
       "      <td>0.7091</td>\n",
       "      <td>0.8423</td>\n",
       "      <td>0.8251</td>\n",
       "      <td>0.2023</td>\n",
       "      <td>0.3506</td>\n",
       "      <td>0.4498</td>\n",
       "      <td>0.6504</td>\n",
       "      <td>0.8094</td>\n",
       "      <td>0.7893</td>\n",
       "    </tr>\n",
       "    <tr>\n",
       "      <th>LinearRegression</th>\n",
       "      <td>3.0705</td>\n",
       "      <td>1.4237</td>\n",
       "      <td>1.7523</td>\n",
       "      <td>-4.0640</td>\n",
       "      <td>0.2805</td>\n",
       "      <td>0.2813</td>\n",
       "      <td>1.1871</td>\n",
       "      <td>0.8221</td>\n",
       "      <td>1.0896</td>\n",
       "      <td>-1.0513</td>\n",
       "      <td>0.3627</td>\n",
       "      <td>0.3460</td>\n",
       "    </tr>\n",
       "    <tr>\n",
       "      <th>KNeighborsRegressor</th>\n",
       "      <td>0.2151</td>\n",
       "      <td>0.3448</td>\n",
       "      <td>0.4638</td>\n",
       "      <td>0.6452</td>\n",
       "      <td>0.8085</td>\n",
       "      <td>0.7752</td>\n",
       "      <td>0.2206</td>\n",
       "      <td>0.3526</td>\n",
       "      <td>0.4697</td>\n",
       "      <td>0.6188</td>\n",
       "      <td>0.7904</td>\n",
       "      <td>0.7709</td>\n",
       "    </tr>\n",
       "    <tr>\n",
       "      <th>SVR</th>\n",
       "      <td>0.1742</td>\n",
       "      <td>0.3139</td>\n",
       "      <td>0.4173</td>\n",
       "      <td>0.7127</td>\n",
       "      <td>0.8444</td>\n",
       "      <td>0.8337</td>\n",
       "      <td>0.2046</td>\n",
       "      <td>0.3466</td>\n",
       "      <td>0.4523</td>\n",
       "      <td>0.6465</td>\n",
       "      <td>0.8062</td>\n",
       "      <td>0.7985</td>\n",
       "    </tr>\n",
       "    <tr>\n",
       "      <th>MLPRegressor</th>\n",
       "      <td>0.6035</td>\n",
       "      <td>0.5891</td>\n",
       "      <td>0.7769</td>\n",
       "      <td>0.0046</td>\n",
       "      <td>0.6004</td>\n",
       "      <td>0.6061</td>\n",
       "      <td>0.3738</td>\n",
       "      <td>0.4753</td>\n",
       "      <td>0.6114</td>\n",
       "      <td>0.3540</td>\n",
       "      <td>0.6770</td>\n",
       "      <td>0.6771</td>\n",
       "    </tr>\n",
       "  </tbody>\n",
       "</table>\n",
       "</div>"
      ],
      "text/plain": [
       "                          Train MSE (5 fold cv) Train MAE (5 fold cv)  \\\n",
       "LGBMRegressor                            0.1798                0.3167   \n",
       "DecisionTreeRegressor                    0.3806                0.4564   \n",
       "RandomForestRegressor                    0.1763                0.3143   \n",
       "GradientBoostingRegressor                0.1783                0.3161   \n",
       "AdaBoostRegressor                        0.1973                0.3398   \n",
       "XGBRegressor                             0.1997                0.3376   \n",
       "ExtraTreesRegressor                      0.1764                0.3143   \n",
       "LinearRegression                         3.0705                1.4237   \n",
       "KNeighborsRegressor                      0.2151                0.3448   \n",
       "SVR                                      0.1742                0.3139   \n",
       "MLPRegressor                             0.6035                0.5891   \n",
       "\n",
       "                          Train RMSE (5 fold cv) Train R2 (5 fold cv)  \\\n",
       "LGBMRegressor                             0.4241               0.7034   \n",
       "DecisionTreeRegressor                     0.6169               0.3723   \n",
       "RandomForestRegressor                     0.4198               0.7093   \n",
       "GradientBoostingRegressor                 0.4223               0.7059   \n",
       "AdaBoostRegressor                         0.4442               0.6746   \n",
       "XGBRegressor                              0.4469               0.6706   \n",
       "ExtraTreesRegressor                       0.4200               0.7091   \n",
       "LinearRegression                          1.7523              -4.0640   \n",
       "KNeighborsRegressor                       0.4638               0.6452   \n",
       "SVR                                       0.4173               0.7127   \n",
       "MLPRegressor                              0.7769               0.0046   \n",
       "\n",
       "                          Train PCC (5 fold cv) Train SCC (5 fold cv)  \\\n",
       "LGBMRegressor                            0.8387                0.8226   \n",
       "DecisionTreeRegressor                    0.6862                0.6592   \n",
       "RandomForestRegressor                    0.8426                0.8255   \n",
       "GradientBoostingRegressor                0.8402                0.8220   \n",
       "AdaBoostRegressor                        0.8248                0.8032   \n",
       "XGBRegressor                             0.8200                0.8018   \n",
       "ExtraTreesRegressor                      0.8423                0.8251   \n",
       "LinearRegression                         0.2805                0.2813   \n",
       "KNeighborsRegressor                      0.8085                0.7752   \n",
       "SVR                                      0.8444                0.8337   \n",
       "MLPRegressor                             0.6004                0.6061   \n",
       "\n",
       "                          Test MSE Test MAE Test RMSE  Test R2  \\\n",
       "LGBMRegressor               0.2051   0.3520    0.4528   0.6457   \n",
       "DecisionTreeRegressor       0.2520   0.3864    0.5020   0.5645   \n",
       "RandomForestRegressor       0.2079   0.3562    0.4560   0.6408   \n",
       "GradientBoostingRegressor   0.2063   0.3535    0.4542   0.6435   \n",
       "AdaBoostRegressor           0.2145   0.3689    0.4631   0.6294   \n",
       "XGBRegressor                0.2135   0.3622    0.4620   0.6312   \n",
       "ExtraTreesRegressor         0.2023   0.3506    0.4498   0.6504   \n",
       "LinearRegression            1.1871   0.8221    1.0896  -1.0513   \n",
       "KNeighborsRegressor         0.2206   0.3526    0.4697   0.6188   \n",
       "SVR                         0.2046   0.3466    0.4523   0.6465   \n",
       "MLPRegressor                0.3738   0.4753    0.6114   0.3540   \n",
       "\n",
       "                          Test Pearson Correlation Test Spearman Correlation  \n",
       "LGBMRegressor                               0.8057                    0.7835  \n",
       "DecisionTreeRegressor                       0.7575                    0.7170  \n",
       "RandomForestRegressor                       0.8034                    0.7791  \n",
       "GradientBoostingRegressor                   0.8053                    0.7843  \n",
       "AdaBoostRegressor                           0.8052                    0.7865  \n",
       "XGBRegressor                                0.7970                    0.7813  \n",
       "ExtraTreesRegressor                         0.8094                    0.7893  \n",
       "LinearRegression                            0.3627                    0.3460  \n",
       "KNeighborsRegressor                         0.7904                    0.7709  \n",
       "SVR                                         0.8062                    0.7985  \n",
       "MLPRegressor                                0.6770                    0.6771  "
      ]
     },
     "execution_count": 29,
     "metadata": {},
     "output_type": "execute_result"
    }
   ],
   "source": [
    "result_df"
   ]
  },
  {
   "cell_type": "code",
   "execution_count": 31,
   "id": "c5ac5539-89d3-4ecf-b31a-3207431efa22",
   "metadata": {
    "execution": {
     "iopub.execute_input": "2025-07-13T05:13:05.421773Z",
     "iopub.status.busy": "2025-07-13T05:13:05.421267Z",
     "iopub.status.idle": "2025-07-13T05:13:05.549803Z",
     "shell.execute_reply": "2025-07-13T05:13:05.549186Z",
     "shell.execute_reply.started": "2025-07-13T05:13:05.421754Z"
    }
   },
   "outputs": [],
   "source": [
    "result_df.to_csv('/kaggle/working/Results_MoLFormer-XL-both-10pct_model_1_fine_tuned_embeddings_caco2.csv')\n",
    "prediction_df.to_csv('/kaggle/working/Prediction_data_MoLFormer-XL-both-10pct_model_1_fine_tuned_embeddings_caco2.csv')"
   ]
  },
  {
   "cell_type": "code",
   "execution_count": null,
   "id": "c316f573-0862-4a38-8bd1-c64becb4be90",
   "metadata": {},
   "outputs": [],
   "source": []
  },
  {
   "cell_type": "code",
   "execution_count": 50,
   "id": "a0e20820-200e-44a2-a375-5f1b4986a587",
   "metadata": {
    "execution": {
     "iopub.execute_input": "2025-07-11T14:32:44.717369Z",
     "iopub.status.busy": "2025-07-11T14:32:44.717147Z",
     "iopub.status.idle": "2025-07-11T14:32:44.802856Z",
     "shell.execute_reply": "2025-07-11T14:32:44.802132Z",
     "shell.execute_reply.started": "2025-07-11T14:32:44.717352Z"
    }
   },
   "outputs": [],
   "source": []
  },
  {
   "cell_type": "code",
   "execution_count": null,
   "id": "5297f462-92c4-4e5e-af59-4592bc7b0bfb",
   "metadata": {},
   "outputs": [],
   "source": []
  },
  {
   "cell_type": "code",
   "execution_count": null,
   "id": "4b7c9435",
   "metadata": {},
   "outputs": [],
   "source": []
  },
  {
   "cell_type": "code",
   "execution_count": null,
   "id": "f771a9f8",
   "metadata": {},
   "outputs": [],
   "source": []
  },
  {
   "cell_type": "code",
   "execution_count": null,
   "id": "09dca642",
   "metadata": {},
   "outputs": [],
   "source": []
  },
  {
   "cell_type": "code",
   "execution_count": null,
   "id": "4e42f880",
   "metadata": {},
   "outputs": [],
   "source": []
  },
  {
   "cell_type": "code",
   "execution_count": null,
   "id": "a8811b85",
   "metadata": {},
   "outputs": [],
   "source": []
  }
 ],
 "metadata": {
  "kaggle": {
   "accelerator": "nvidiaTeslaT4",
   "dataSources": [
    {
     "datasetId": 7855952,
     "sourceId": 12453913,
     "sourceType": "datasetVersion"
    }
   ],
   "dockerImageVersionId": 31090,
   "isGpuEnabled": true,
   "isInternetEnabled": true,
   "language": "python",
   "sourceType": "notebook"
  },
  "kernelspec": {
   "display_name": "Python 3 (ipykernel)",
   "language": "python",
   "name": "python3"
  },
  "language_info": {
   "codemirror_mode": {
    "name": "ipython",
    "version": 3
   },
   "file_extension": ".py",
   "mimetype": "text/x-python",
   "name": "python",
   "nbconvert_exporter": "python",
   "pygments_lexer": "ipython3",
   "version": "3.12.6"
  }
 },
 "nbformat": 4,
 "nbformat_minor": 5
}
